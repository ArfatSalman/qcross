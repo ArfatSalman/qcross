{
 "cells": [
  {
   "cell_type": "code",
   "execution_count": 1,
   "id": "09a43d3f-326b-46b1-9132-28272f8f4b53",
   "metadata": {},
   "outputs": [
    {
     "name": "stderr",
     "output_type": "stream",
     "text": [
      "/Users/arfat/Desktop/qc-test/venv/lib/python3.9/site-packages/numpy/linalg/linalg.py:2154: RuntimeWarning: divide by zero encountered in det\n",
      "  r = _umath_linalg.det(a, signature=signature)\n",
      "/Users/arfat/Desktop/qc-test/venv/lib/python3.9/site-packages/numpy/linalg/linalg.py:2154: RuntimeWarning: invalid value encountered in det\n",
      "  r = _umath_linalg.det(a, signature=signature)\n"
     ]
    }
   ],
   "source": [
    "# SECTION\n",
    "# NAME: PROLOGUE\n",
    "\n",
    "import qiskit\n",
    "from qiskit import QuantumCircuit, ClassicalRegister, QuantumRegister\n",
    "from qiskit.circuit.library.standard_gates import *\n",
    "from qiskit.circuit import Parameter\n",
    "# SECTION\n",
    "# NAME: CIRCUIT\n",
    "\n",
    "qr = QuantumRegister(9, name='qr')\n",
    "cr = ClassicalRegister(9, name='cr')\n",
    "qc = QuantumCircuit(qr, cr, name='qc')\n",
    "# qc.append(RZGate(6.163759533339787), qargs=[qr[8]], cargs=[])\n",
    "# SECTION\n",
    "# NAME: USELESS_ENTITIES\n",
    "\n",
    "qr_1eab16 = QuantumRegister(8, name='qr_1eab16')\n",
    "qc.add_register(qr_1eab16)\n",
    "# SECTION\n",
    "# NAME: MEASUREMENT\n",
    "\n",
    "qc.measure(qr, cr)\n",
    "# SECTION\n",
    "# NAME: OPTIMIZATION_LEVEL\n",
    "from qiskit import transpile\n",
    "qc = transpile(qc, basis_gates=None, optimization_level=3, coupling_map=None)\n",
    "# SECTION\n",
    "# NAME: QASM_CONVERSION\n",
    "\n",
    "\n",
    "# qc = QuantumCircuit.from_qasm_str(qc.qasm())\n",
    "# SECTION\n",
    "# NAME: EXECUTION\n",
    "\n",
    "from qiskit import Aer, transpile, execute\n",
    "backend_1420288a42ad4bb99dd60a43c7dd950d = Aer.get_backend('statevector_simulator')\n",
    "counts = execute(qc, backend=backend_1420288a42ad4bb99dd60a43c7dd950d, shots=3919).result().get_counts(qc)\n",
    "RESULT = counts\n"
   ]
  }
 ],
 "metadata": {
  "kernelspec": {
   "display_name": "Python 3 (ipykernel)",
   "language": "python",
   "name": "python3"
  },
  "language_info": {
   "codemirror_mode": {
    "name": "ipython",
    "version": 3
   },
   "file_extension": ".py",
   "mimetype": "text/x-python",
   "name": "python",
   "nbconvert_exporter": "python",
   "pygments_lexer": "ipython3",
   "version": "3.9.12"
  }
 },
 "nbformat": 4,
 "nbformat_minor": 5
}
