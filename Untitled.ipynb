{
 "cells": [
  {
   "cell_type": "code",
   "execution_count": 14,
   "id": "09a43d3f-326b-46b1-9132-28272f8f4b53",
   "metadata": {},
   "outputs": [
    {
     "ename": "QiskitError",
     "evalue": "'Cannot apply instruction with classical bits: subcircuit'",
     "output_type": "error",
     "traceback": [
      "\u001b[0;31m---------------------------------------------------------------------------\u001b[0m",
      "\u001b[0;31mQiskitError\u001b[0m                               Traceback (most recent call last)",
      "Cell \u001b[0;32mIn [14], line 24\u001b[0m\n\u001b[1;32m     21\u001b[0m     \u001b[38;5;28;01mfrom\u001b[39;00m \u001b[38;5;21;01mqiskit\u001b[39;00m\u001b[38;5;21;01m.\u001b[39;00m\u001b[38;5;21;01mquantum_info\u001b[39;00m \u001b[38;5;28;01mimport\u001b[39;00m Statevector\n\u001b[1;32m     22\u001b[0m     \u001b[38;5;28;01mreturn\u001b[39;00m Statevector\u001b[38;5;241m.\u001b[39mfrom_instruction(qc1)\u001b[38;5;241m.\u001b[39mequiv(Statevector\u001b[38;5;241m.\u001b[39mfrom_instruction(qc2))\n\u001b[0;32m---> 24\u001b[0m \u001b[38;5;28;01massert\u001b[39;00m circuit_state_vector_are_equal(\n\u001b[1;32m     25\u001b[0m     qc\u001b[38;5;241m.\u001b[39mremove_final_measurements(inplace\u001b[38;5;241m=\u001b[39m\u001b[38;5;28;01mFalse\u001b[39;00m),\n\u001b[1;32m     26\u001b[0m     qc\u001b[38;5;241m.\u001b[39mremove_final_measurements(inplace\u001b[38;5;241m=\u001b[39m\u001b[38;5;28;01mFalse\u001b[39;00m)\n\u001b[1;32m     27\u001b[0m )\n",
      "Cell \u001b[0;32mIn [14], line 22\u001b[0m, in \u001b[0;36mcircuit_state_vector_are_equal\u001b[0;34m(qc1, qc2)\u001b[0m\n\u001b[1;32m     20\u001b[0m \u001b[38;5;28;01mdef\u001b[39;00m \u001b[38;5;21mcircuit_state_vector_are_equal\u001b[39m(qc1, qc2):\n\u001b[1;32m     21\u001b[0m     \u001b[38;5;28;01mfrom\u001b[39;00m \u001b[38;5;21;01mqiskit\u001b[39;00m\u001b[38;5;21;01m.\u001b[39;00m\u001b[38;5;21;01mquantum_info\u001b[39;00m \u001b[38;5;28;01mimport\u001b[39;00m Statevector\n\u001b[0;32m---> 22\u001b[0m     \u001b[38;5;28;01mreturn\u001b[39;00m \u001b[43mStatevector\u001b[49m\u001b[38;5;241;43m.\u001b[39;49m\u001b[43mfrom_instruction\u001b[49m\u001b[43m(\u001b[49m\u001b[43mqc1\u001b[49m\u001b[43m)\u001b[49m\u001b[38;5;241m.\u001b[39mequiv(Statevector\u001b[38;5;241m.\u001b[39mfrom_instruction(qc2))\n",
      "File \u001b[0;32m~/Desktop/qc-test/venv/lib/python3.9/site-packages/qiskit/quantum_info/states/statevector.py:751\u001b[0m, in \u001b[0;36mStatevector.from_instruction\u001b[0;34m(cls, instruction)\u001b[0m\n\u001b[1;32m    749\u001b[0m init[\u001b[38;5;241m0\u001b[39m] \u001b[38;5;241m=\u001b[39m \u001b[38;5;241m1.0\u001b[39m\n\u001b[1;32m    750\u001b[0m vec \u001b[38;5;241m=\u001b[39m Statevector(init, dims\u001b[38;5;241m=\u001b[39minstruction\u001b[38;5;241m.\u001b[39mnum_qubits \u001b[38;5;241m*\u001b[39m (\u001b[38;5;241m2\u001b[39m,))\n\u001b[0;32m--> 751\u001b[0m \u001b[38;5;28;01mreturn\u001b[39;00m \u001b[43mStatevector\u001b[49m\u001b[38;5;241;43m.\u001b[39;49m\u001b[43m_evolve_instruction\u001b[49m\u001b[43m(\u001b[49m\u001b[43mvec\u001b[49m\u001b[43m,\u001b[49m\u001b[43m \u001b[49m\u001b[43minstruction\u001b[49m\u001b[43m)\u001b[49m\n",
      "File \u001b[0;32m~/Desktop/qc-test/venv/lib/python3.9/site-packages/qiskit/quantum_info/states/statevector.py:935\u001b[0m, in \u001b[0;36mStatevector._evolve_instruction\u001b[0;34m(statevec, obj, qargs)\u001b[0m\n\u001b[1;32m    933\u001b[0m \u001b[38;5;28;01mfor\u001b[39;00m instruction \u001b[38;5;129;01min\u001b[39;00m obj\u001b[38;5;241m.\u001b[39mdefinition:\n\u001b[1;32m    934\u001b[0m     \u001b[38;5;28;01mif\u001b[39;00m instruction\u001b[38;5;241m.\u001b[39mclbits:\n\u001b[0;32m--> 935\u001b[0m         \u001b[38;5;28;01mraise\u001b[39;00m QiskitError(\n\u001b[1;32m    936\u001b[0m             \u001b[38;5;124mf\u001b[39m\u001b[38;5;124m\"\u001b[39m\u001b[38;5;124mCannot apply instruction with classical bits: \u001b[39m\u001b[38;5;132;01m{\u001b[39;00minstruction\u001b[38;5;241m.\u001b[39moperation\u001b[38;5;241m.\u001b[39mname\u001b[38;5;132;01m}\u001b[39;00m\u001b[38;5;124m\"\u001b[39m\n\u001b[1;32m    937\u001b[0m         )\n\u001b[1;32m    938\u001b[0m     \u001b[38;5;66;03m# Get the integer position of the flat register\u001b[39;00m\n\u001b[1;32m    939\u001b[0m     \u001b[38;5;28;01mif\u001b[39;00m qargs \u001b[38;5;129;01mis\u001b[39;00m \u001b[38;5;28;01mNone\u001b[39;00m:\n",
      "\u001b[0;31mQiskitError\u001b[0m: 'Cannot apply instruction with classical bits: subcircuit'"
     ]
    }
   ],
   "source": [
    "import os\n"
   ]
  },
  {
   "cell_type": "code",
   "execution_count": 2,
   "id": "7326910f-0847-461c-8caa-4d38108b010e",
   "metadata": {},
   "outputs": [
    {
     "data": {
      "text/plain": [
       "{'01000000': 2771}"
      ]
     },
     "execution_count": 2,
     "metadata": {},
     "output_type": "execute_result"
    }
   ],
   "source": [
    "\n",
    "RESULT"
   ]
  }
 ],
 "metadata": {
  "kernelspec": {
   "display_name": "Python 3 (ipykernel)",
   "language": "python",
   "name": "python3"
  },
  "language_info": {
   "codemirror_mode": {
    "name": "ipython",
    "version": 3
   },
   "file_extension": ".py",
   "mimetype": "text/x-python",
   "name": "python",
   "nbconvert_exporter": "python",
   "pygments_lexer": "ipython3",
   "version": "3.9.12"
  }
 },
 "nbformat": 4,
 "nbformat_minor": 5
}
