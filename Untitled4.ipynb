{
 "cells": [
  {
   "cell_type": "code",
   "execution_count": 85,
   "id": "90db16b5-b849-49be-ae68-cd08ff23eaf3",
   "metadata": {},
   "outputs": [
    {
     "data": {
      "text/plain": [
       "{'111': 12, '011': 8}"
      ]
     },
     "execution_count": 85,
     "metadata": {},
     "output_type": "execute_result"
    }
   ],
   "source": [
    "\n",
    "# SECTION\n",
    "# NAME: PROLOGUE\n",
    "\n",
    "import qiskit\n",
    "from qiskit import QuantumCircuit, ClassicalRegister, QuantumRegister\n",
    "from qiskit.circuit.library.standard_gates import *\n",
    "from qiskit.circuit import Parameter\n",
    "\n",
    "# SECTION\n",
    "# NAME: CIRCUIT\n",
    "\n",
    "# [0, 1]\n",
    "qr = QuantumRegister(3, name='qr')\n",
    "cr = ClassicalRegister(3, name='cr')\n",
    "qc = QuantumCircuit(qr, cr, name='qc')\n",
    "\n",
    "\n",
    "\n",
    "qc.append(HGate(), qargs=[qr[2]], cargs=[])\n",
    "qc.append(XGate(), qargs=[qr[0]], cargs=[])\n",
    "qc.append(XGate(), qargs=[qr[1]], cargs=[])\n",
    "# qc.append(CXGate(), qargs=[qr[0], qr[1]], cargs=[])\n",
    "# qc.append(RZGate(6.163759533339787), qargs=[qr[0]], cargs=[])\n",
    "qc.measure(qr, cr)\n",
    "# qc.measure(qr[0], cr[0])\n",
    "# qc.measure(qr[1], cr[1])\n",
    "\n",
    "from qiskit import Aer, transpile, execute\n",
    "backend = Aer.get_backend(\"qasm_simulator\")\n",
    "counts_qiskit = (\n",
    "    execute(qc, backend=backend, shots=20)\n",
    "    .result()\n",
    "    .get_counts(qc)\n",
    ")\n",
    "counts_qiskit"
   ]
  },
  {
   "cell_type": "code",
   "execution_count": 93,
   "id": "4aa3b6d0-2d7a-44a6-b1c3-15765c2f1539",
   "metadata": {},
   "outputs": [
    {
     "name": "stdout",
     "output_type": "stream",
     "text": [
      "{(1, 1, 0): 12, (1, 1, 1): 8}\n"
     ]
    },
    {
     "data": {
      "text/plain": [
       "{'011': 12, '111': 8}"
      ]
     },
     "execution_count": 93,
     "metadata": {},
     "output_type": "execute_result"
    }
   ],
   "source": [
    "import cirq\n",
    "\n",
    "qr = cirq.NamedQubit.range(3, prefix='q')\n",
    "\n",
    "# Create a circuit that applies gates\n",
    "circuit = cirq.Circuit(\n",
    "    cirq.H(qr[2]),\n",
    "    # cirq.H(qr[1]),\n",
    "    cirq.X(qr[0]),\n",
    "    cirq.X(qr[1]),\n",
    "        # cirq.H(qr[3]),\n",
    "    \n",
    "    # cirq.rz(6.163759533339787)(qr[0]),\n",
    "    cirq.measure(qr[0], key='q0'),\n",
    "    cirq.measure(qr[1], key='q1'),\n",
    "        cirq.measure(qr[2], key='q2')\n",
    "    # cirq.measure(qr, key='qr')\n",
    ")\n",
    "\n",
    "# Simulate the circuit several times.\n",
    "simulator = cirq.Simulator()\n",
    "result_cirq = simulator.run(circuit, repetitions=20)\n",
    "result_cirq.measurements\n",
    "\n",
    "d = dict(result_cirq.multi_measurement_histogram(keys=['q0', 'q1', 'q2']))\n",
    "from functools import reduce\n",
    "keys = list(\n",
    "        map(lambda arr: reduce(lambda x, y: str(x) +\n",
    "            str(y), arr[::-1]), d.keys())\n",
    "    )\n",
    "print(d)\n",
    "d.values()\n",
    "dict(zip( map(str, keys), d.values()))"
   ]
  },
  {
   "cell_type": "code",
   "execution_count": 56,
   "id": "560a701e-0929-48a2-b03a-11b87a9b76d8",
   "metadata": {},
   "outputs": [
    {
     "name": "stdout",
     "output_type": "stream",
     "text": [
      "DECLARE ro BIT[2]\n",
      "H 1\n",
      "CONTROLLED H 0 1\n",
      "CONTROLLED CONTROLLED CONTROLLED CONTROLLED X 0 1 4 3 2\n",
      "CNOT 0 1\n",
      "CNOT 1 0\n",
      "RZ(6.163759533339787) 0\n",
      "MEASURE 0 ro[0]\n",
      "MEASURE 1 ro[1]\n",
      "\n"
     ]
    }
   ],
   "source": [
    "from pyquil import Program, get_qc\n",
    "from pyquil.gates import *\n",
    "\n",
    "qc = Program()\n",
    "\n",
    "def C4X(a, b, c, d, e):\n",
    "    return X(e).controlled(d).controlled(c).controlled(b).controlled(a)\n",
    "\n",
    "def DCX(a, b):\n",
    "    p = Program()\n",
    "    p += CNOT(a, b)\n",
    "    p += CNOT(b, a)\n",
    "    return p\n",
    "\n",
    "qr = qc.declare(\"ro\", \"BIT\", 2)\n",
    "\n",
    "qc.inst(H(1))\n",
    "# qc.inst(CNOT(0, 1))\n",
    "# qc.inst(CCNOT(0, 1, 2))\n",
    "\n",
    "qc.inst(H(1).controlled(0))\n",
    "qc.inst(C4X(0, 1, 4, 3, 2))\n",
    "\n",
    "qc.inst(DCX(0,1))\n",
    "\n",
    "qc.inst(RZ(6.163759533339787, 0))\n",
    "\n",
    "# qc += MEASURE(\n",
    "qc += MEASURE(0, qr[0])\n",
    "qc += MEASURE(1, qr[1])\n",
    "\n",
    "# qc.wrap_in_numshots_loop(1024)\n",
    "\n",
    "# qvm = get_qc(\"9q-square-qvm\")\n",
    "\n",
    "# executable = qvm.compile(qc, protoquil=True)\n",
    "\n",
    "# result = qvm.run(executable).readout_data.get('ro')\n",
    "# result\n",
    "    \n",
    "# from pyquil.latex import display, to_latex\n",
    "# print(to_latex(qc))\n",
    "# C4X(0, 1, 4, 3, 2)\n",
    "# CCNOT(4, 3, 2).controlled\n",
    "print(qc)"
   ]
  },
  {
   "cell_type": "code",
   "execution_count": 4,
   "id": "ff4a324c-aebd-43f8-856c-ad62a053f3a7",
   "metadata": {},
   "outputs": [
    {
     "name": "stdout",
     "output_type": "stream",
     "text": [
      "+--------+------+--------+--------+\n",
      "| bitstr | cirq | pyquil | qiskit |\n",
      "+--------+------+--------+--------+\n",
      "|   00   | 503  |  494   |  537   |\n",
      "|   10   | 521  |  530   |  487   |\n",
      "+--------+------+--------+--------+\n"
     ]
    },
    {
     "name": "stderr",
     "output_type": "stream",
     "text": [
      "/Users/arfat/Desktop/qc-test/venv/lib/python3.9/site-packages/tqdm/auto.py:22: TqdmWarning: IProgress not found. Please update jupyter and ipywidgets. See https://ipywidgets.readthedocs.io/en/stable/user_install.html\n",
      "  from .autonotebook import tqdm as notebook_tqdm\n"
     ]
    },
    {
     "data": {
      "text/html": [
       "<table>\n",
       "    <thead>\n",
       "        <tr>\n",
       "            <th>bitstr</th>\n",
       "            <th>cirq</th>\n",
       "            <th>pyquil</th>\n",
       "            <th>qiskit</th>\n",
       "        </tr>\n",
       "    </thead>\n",
       "    <tbody>\n",
       "        <tr>\n",
       "            <td>00</td>\n",
       "            <td>503</td>\n",
       "            <td>494</td>\n",
       "            <td>537</td>\n",
       "        </tr>\n",
       "        <tr>\n",
       "            <td>10</td>\n",
       "            <td>521</td>\n",
       "            <td>530</td>\n",
       "            <td>487</td>\n",
       "        </tr>\n",
       "    </tbody>\n",
       "</table>"
      ],
      "text/plain": [
       "+--------+------+--------+--------+\n",
       "| bitstr | cirq | pyquil | qiskit |\n",
       "+--------+------+--------+--------+\n",
       "|   00   | 503  |  494   |  537   |\n",
       "|   10   | 521  |  530   |  487   |\n",
       "+--------+------+--------+--------+"
      ]
     },
     "execution_count": 4,
     "metadata": {},
     "output_type": "execute_result"
    }
   ],
   "source": [
    "from qcross.utils import display_results\n",
    "from bloqs.ext.cirq.utils import get_qiskit_like_output as cirq_output\n",
    "from bloqs.ext.pyquil.utils import get_qiskit_like_output as pyquil_output\n",
    "\n",
    "display_results({'qiskit': counts_qiskit, 'cirq': cirq_output(result_cirq, keys=['q0', 'q1']), 'pyquil': pyquil_output(result)})"
   ]
  },
  {
   "cell_type": "code",
   "execution_count": 7,
   "id": "9acbec11-9282-4e77-b749-08324200359c",
   "metadata": {},
   "outputs": [
    {
     "data": {
      "text/plain": [
       "57"
      ]
     },
     "execution_count": 7,
     "metadata": {},
     "output_type": "execute_result"
    }
   ],
   "source": [
    "import  qiskit.circuit.library.standard_gates as g\n",
    "len([el for el in dir(g) if el[0].isupper()])"
   ]
  },
  {
   "cell_type": "code",
   "execution_count": 2,
   "id": "b2fa8513-15d4-48e3-aad6-2c009edfb95b",
   "metadata": {},
   "outputs": [
    {
     "data": {
      "text/html": [
       "<pre style=\"overflow: auto; white-space: pre;\">q0: ───@──────────────\n",
       "       │\n",
       "q1: ───X───M(&#x27;cr1&#x27;)───\n",
       "       │\n",
       "q2: ───@──────────────\n",
       "       │\n",
       "q3: ───@──────────────</pre>"
      ],
      "text/plain": [
       "q0: ───@──────────────\n",
       "       │\n",
       "q1: ───X───M('cr1')───\n",
       "       │\n",
       "q2: ───@──────────────\n",
       "       │\n",
       "q3: ───@──────────────"
      ]
     },
     "execution_count": 2,
     "metadata": {},
     "output_type": "execute_result"
    }
   ],
   "source": [
    "import cirq\n",
    "\n",
    "qr = cirq.NamedQubit.range(4, prefix='q')\n",
    "\n",
    "CHGate = cirq.ControlledGate(cirq.H, num_controls=1)\n",
    "\n",
    "# equivalently using the `.controlled` method \n",
    "# instead of `ControlledGate` class\n",
    "C3XGate = cirq.X.controlled(num_controls=3)\n",
    "\n",
    "C4XGate = cirq.X.controlled(num_controls=4)\n",
    "\n",
    "# Create a circuit that applies gates\n",
    "circuit = cirq.Circuit(\n",
    "    C3XGate(qr[0], qr[2], qr[3], qr[1]),\n",
    "    cirq.measure(qr[1], key='cr1')\n",
    ")\n",
    "\n",
    "circuit"
   ]
  },
  {
   "cell_type": "code",
   "execution_count": 37,
   "id": "2666dd5e-2233-4bcd-80fd-0747b5b59403",
   "metadata": {},
   "outputs": [
    {
     "data": {
      "text/plain": [
       "<pyquil.quilbase.DefGate at 0x17ed4f6d0>"
      ]
     },
     "execution_count": 37,
     "metadata": {},
     "output_type": "execute_result"
    }
   ],
   "source": [
    "from pyquil.quil import DefGate\n",
    "from pyquil.quilatom import Parameter, quil_sin, quil_cos, quil_exp\n",
    "\n",
    "a = DefGate(\"a\", [])\n"
   ]
  },
  {
   "cell_type": "code",
   "execution_count": 7,
   "id": "f8481dbb-f5d0-4a92-a282-a183809d3a50",
   "metadata": {},
   "outputs": [
    {
     "ename": "AttributeError",
     "evalue": "module 'cirq_google' has no attribute 'ConvertToSycamoreGates'",
     "output_type": "error",
     "traceback": [
      "\u001b[0;31m---------------------------------------------------------------------------\u001b[0m",
      "\u001b[0;31mAttributeError\u001b[0m                            Traceback (most recent call last)",
      "Cell \u001b[0;32mIn [7], line 14\u001b[0m\n\u001b[1;32m      6\u001b[0m circuit \u001b[38;5;241m=\u001b[39m cirq\u001b[38;5;241m.\u001b[39mCircuit(\n\u001b[1;32m      7\u001b[0m     cirq\u001b[38;5;241m.\u001b[39mH(q0),\n\u001b[1;32m      8\u001b[0m     cirq\u001b[38;5;241m.\u001b[39mCNOT(q0, q1),\n\u001b[1;32m      9\u001b[0m     cirq\u001b[38;5;241m.\u001b[39mmeasure(q0, key\u001b[38;5;241m=\u001b[39m\u001b[38;5;124m'\u001b[39m\u001b[38;5;124mm0\u001b[39m\u001b[38;5;124m'\u001b[39m),\n\u001b[1;32m     10\u001b[0m     cirq\u001b[38;5;241m.\u001b[39mmeasure(q1, key\u001b[38;5;241m=\u001b[39m\u001b[38;5;124m'\u001b[39m\u001b[38;5;124mm1\u001b[39m\u001b[38;5;124m'\u001b[39m)\n\u001b[1;32m     11\u001b[0m )\n\u001b[1;32m     13\u001b[0m \u001b[38;5;66;03m# Define the Sycamore converter\u001b[39;00m\n\u001b[0;32m---> 14\u001b[0m sycamore_converter \u001b[38;5;241m=\u001b[39m cirq_google\u001b[38;5;241m.\u001b[39mConvertToSycamoreGates()\n\u001b[1;32m     16\u001b[0m \u001b[38;5;66;03m# Convert the circuit to the Sycamore gate set\u001b[39;00m\n\u001b[1;32m     17\u001b[0m sycamore_circuit \u001b[38;5;241m=\u001b[39m cirq\u001b[38;5;241m.\u001b[39mCircuit(sycamore_converter\u001b[38;5;241m.\u001b[39mconvert(circuit), strategy\u001b[38;5;241m=\u001b[39mcirq\u001b[38;5;241m.\u001b[39mInsertStrategy\u001b[38;5;241m.\u001b[39mEARLIEST)\n",
      "File \u001b[0;32m~/Desktop/qc-test/venv/lib/python3.9/site-packages/cirq/_compat.py:434\u001b[0m, in \u001b[0;36mdeprecate_attributes.<locals>.Wrapped.__getattr__\u001b[0;34m(self, name)\u001b[0m\n\u001b[1;32m    428\u001b[0m     deadline, fix \u001b[38;5;241m=\u001b[39m deprecated_attributes[name]\n\u001b[1;32m    429\u001b[0m     _warn_or_error(\n\u001b[1;32m    430\u001b[0m         \u001b[38;5;124mf\u001b[39m\u001b[38;5;124m'\u001b[39m\u001b[38;5;132;01m{\u001b[39;00mname\u001b[38;5;132;01m}\u001b[39;00m\u001b[38;5;124m was used but is deprecated.\u001b[39m\u001b[38;5;130;01m\\n\u001b[39;00m\u001b[38;5;124m'\u001b[39m\n\u001b[1;32m    431\u001b[0m         \u001b[38;5;124mf\u001b[39m\u001b[38;5;124m'\u001b[39m\u001b[38;5;124mIt will be removed in cirq \u001b[39m\u001b[38;5;132;01m{\u001b[39;00mdeadline\u001b[38;5;132;01m}\u001b[39;00m\u001b[38;5;124m.\u001b[39m\u001b[38;5;130;01m\\n\u001b[39;00m\u001b[38;5;124m'\u001b[39m\n\u001b[1;32m    432\u001b[0m         \u001b[38;5;124mf\u001b[39m\u001b[38;5;124m'\u001b[39m\u001b[38;5;132;01m{\u001b[39;00mfix\u001b[38;5;132;01m}\u001b[39;00m\u001b[38;5;130;01m\\n\u001b[39;00m\u001b[38;5;124m'\u001b[39m\n\u001b[1;32m    433\u001b[0m     )\n\u001b[0;32m--> 434\u001b[0m \u001b[38;5;28;01mreturn\u001b[39;00m \u001b[38;5;28;43mgetattr\u001b[39;49m\u001b[43m(\u001b[49m\u001b[43mmodule\u001b[49m\u001b[43m,\u001b[49m\u001b[43m \u001b[49m\u001b[43mname\u001b[49m\u001b[43m)\u001b[49m\n",
      "\u001b[0;31mAttributeError\u001b[0m: module 'cirq_google' has no attribute 'ConvertToSycamoreGates'"
     ]
    }
   ],
   "source": [
    "import cirq\n",
    "import cirq_google\n",
    "\n",
    "# Define a simple circuit\n",
    "q0, q1 = cirq.LineQubit.range(2)\n",
    "circuit = cirq.Circuit(\n",
    "    cirq.H(q0),\n",
    "    cirq.CNOT(q0, q1),\n",
    "    cirq.measure(q0, key='m0'),\n",
    "    cirq.measure(q1, key='m1')\n",
    ")\n",
    "\n",
    "# Define the Sycamore converter\n",
    "sycamore_converter = cirq_google.ConvertToSycamoreGates()\n",
    "\n",
    "# Convert the circuit to the Sycamore gate set\n",
    "sycamore_circuit = cirq.Circuit(sycamore_converter.convert(circuit), strategy=cirq.InsertStrategy.EARLIEST)\n",
    "\n",
    "# Define a generic device gate set (universal gate set)\n",
    "universal_gates = [cirq.CZPowGate, cirq.Rx, cirq.Ry, cirq.Rz, cirq.MeasurementGate]\n",
    "\n",
    "# Define the Universal converter\n",
    "universal_converter = cirq_google.ConvertToXmonGates(target_gate_set=universal_gates)\n",
    "\n",
    "# Convert the circuit to the universal gate set\n",
    "universal_circuit = cirq.Circuit(universal_converter.convert(circuit), strategy=cirq.InsertStrategy.EARLIEST)\n",
    "\n",
    "print(\"Original circuit:\")\n",
    "print(circuit)\n",
    "print(\"\\nSycamore circuit:\")\n",
    "print(sycamore_circuit)\n",
    "print(\"\\nUniversal circuit:\")\n",
    "print(universal_circuit)\n"
   ]
  },
  {
   "cell_type": "code",
   "execution_count": 34,
   "id": "85461ce7-2e70-43ef-87fb-0d11076b02a8",
   "metadata": {},
   "outputs": [
    {
     "data": {
      "text/plain": [
       "'<svg xmlns=\"http://www.w3.org/2000/svg\" width=\"280.0\" height=\"150.0\"><line x1=\"30.0\" x2=\"250.0\" y1=\"25.0\" y2=\"25.0\" stroke=\"#1967d2\" stroke-width=\"1\" /><line x1=\"30.0\" x2=\"250.0\" y1=\"75.0\" y2=\"75.0\" stroke=\"#1967d2\" stroke-width=\"1\" /><line x1=\"30.0\" x2=\"250.0\" y1=\"125.0\" y2=\"125.0\" stroke=\"#1967d2\" stroke-width=\"1\" /><line x1=\"150.0\" x2=\"150.0\" y1=\"25.0\" y2=\"125.0\" stroke=\"black\" stroke-width=\"3\" /><rect x=\"10.0\" y=\"5.0\" width=\"40\" height=\"40\" stroke=\"black\" fill=\"white\" stroke-width=\"0\" /><text x=\"30.0\" y=\"25.0\" dominant-baseline=\"middle\" text-anchor=\"middle\" font-size=\"14px\" font-family=\"Arial\">0: </text><rect x=\"10.0\" y=\"55.0\" width=\"40\" height=\"40\" stroke=\"black\" fill=\"white\" stroke-width=\"0\" /><text x=\"30.0\" y=\"75.0\" dominant-baseline=\"middle\" text-anchor=\"middle\" font-size=\"14px\" font-family=\"Arial\">1: </text><rect x=\"10.0\" y=\"105.0\" width=\"40\" height=\"40\" stroke=\"black\" fill=\"white\" stroke-width=\"0\" /><text x=\"30.0\" y=\"125.0\" dominant-baseline=\"middle\" text-anchor=\"middle\" font-size=\"14px\" font-family=\"Arial\">2: </text><rect x=\"70.0\" y=\"5.0\" width=\"40\" height=\"40\" stroke=\"black\" fill=\"white\" stroke-width=\"1\" /><text x=\"90.0\" y=\"25.0\" dominant-baseline=\"middle\" text-anchor=\"middle\" font-size=\"18px\" font-family=\"Arial\">H</text><circle cx=\"150.0\" cy=\"125.0\" r=\"10.0\" /><rect x=\"130.0\" y=\"5.0\" width=\"40\" height=\"40\" stroke=\"black\" fill=\"white\" stroke-width=\"1\" /><text x=\"150.0\" y=\"25.0\" dominant-baseline=\"middle\" text-anchor=\"middle\" font-size=\"18px\" font-family=\"Arial\">X</text><rect x=\"190.0\" y=\"5.0\" width=\"40\" height=\"40\" stroke=\"black\" fill=\"white\" stroke-width=\"1\" /><text x=\"210.0\" y=\"25.0\" dominant-baseline=\"middle\" text-anchor=\"middle\" font-size=\"18px\" font-family=\"Arial\">M</text><rect x=\"190.0\" y=\"55.0\" width=\"40\" height=\"40\" stroke=\"black\" fill=\"white\" stroke-width=\"1\" /><text x=\"210.0\" y=\"75.0\" dominant-baseline=\"middle\" text-anchor=\"middle\" font-size=\"18px\" font-family=\"Arial\">M</text><rect x=\"190.0\" y=\"105.0\" width=\"40\" height=\"40\" stroke=\"black\" fill=\"white\" stroke-width=\"1\" /><text x=\"210.0\" y=\"125.0\" dominant-baseline=\"middle\" text-anchor=\"middle\" font-size=\"18px\" font-family=\"Arial\">M</text></svg>'"
      ]
     },
     "execution_count": 34,
     "metadata": {},
     "output_type": "execute_result"
    }
   ],
   "source": [
    "from cirq.contrib.svg import SVGCircuit, circuit_to_svg\n",
    "\n",
    "edges = [\n",
    "    [0, 1],\n",
    "    # [0, 6],\n",
    "    [1, 0],\n",
    "    [1, 2],\n",
    "    [2, 1],\n",
    "    # [2, 5],\n",
    "    # [3, 1],\n",
    "    # [4, 5],\n",
    "    # [5, 2],\n",
    "    # [5, 4],\n",
    "    # [5, 6],\n",
    "    # [6, 0],\n",
    "    # [6, 5],\n",
    "]\n",
    "\n",
    "import cirq\n",
    "import networkx as nx\n",
    "from bloqs.ext.cirq.utils import get_qiskit_like_output\n",
    "\n",
    "q = cirq.LineQubit.range(3)\n",
    "qc = cirq.Circuit()\n",
    "qc.append(cirq.H(q[0]))\n",
    "qc.append(cirq.CNOT(q[2], q[0]))\n",
    "qc.append(cirq.Moment(cirq.measure(q[0]), cirq.measure(q[1]), cirq.measure(q[2])))\n",
    "# qc.append()\n",
    "# qc.append()\n",
    "# qc.append()\n",
    "# qc.append(cirq.measure(q[3], key=\"cr3\"))\n",
    "# qc.append(cirq.measure(q[4], key=\"cr4\"))\n",
    "# print(cirq.defer_measurements(qc))\n",
    "SVGCircuit(cirq.defer_measurements(qc))\n",
    "circuit_to_svg(qc)"
   ]
  },
  {
   "cell_type": "code",
   "execution_count": 35,
   "id": "ca244d52-de51-419a-985d-127a83e2de4c",
   "metadata": {},
   "outputs": [
    {
     "data": {
      "text/plain": [
       "'<svg xmlns=\"http://www.w3.org/2000/svg\" width=\"319.3671875\" height=\"150.0\"><line x1=\"30.0\" x2=\"289.3671875\" y1=\"25.0\" y2=\"25.0\" stroke=\"#1967d2\" stroke-width=\"1\" /><line x1=\"30.0\" x2=\"289.3671875\" y1=\"75.0\" y2=\"75.0\" stroke=\"#1967d2\" stroke-width=\"1\" /><line x1=\"30.0\" x2=\"289.3671875\" y1=\"125.0\" y2=\"125.0\" stroke=\"#1967d2\" stroke-width=\"1\" /><line x1=\"169.68359375\" x2=\"169.68359375\" y1=\"25.0\" y2=\"75.0\" stroke=\"black\" stroke-width=\"3\" /><rect x=\"10.0\" y=\"5.0\" width=\"40\" height=\"40\" stroke=\"black\" fill=\"white\" stroke-width=\"0\" /><text x=\"30.0\" y=\"25.0\" dominant-baseline=\"middle\" text-anchor=\"middle\" font-size=\"14px\" font-family=\"Arial\">q0: </text><rect x=\"10.0\" y=\"55.0\" width=\"40\" height=\"40\" stroke=\"black\" fill=\"white\" stroke-width=\"0\" /><text x=\"30.0\" y=\"75.0\" dominant-baseline=\"middle\" text-anchor=\"middle\" font-size=\"14px\" font-family=\"Arial\">q1: </text><rect x=\"10.0\" y=\"105.0\" width=\"40\" height=\"40\" stroke=\"black\" fill=\"white\" stroke-width=\"0\" /><text x=\"30.0\" y=\"125.0\" dominant-baseline=\"middle\" text-anchor=\"middle\" font-size=\"14px\" font-family=\"Arial\">q2: </text><rect x=\"70.0\" y=\"55.0\" width=\"59.68359375\" height=\"40\" stroke=\"black\" fill=\"white\" stroke-width=\"1\" /><text x=\"99.841796875\" y=\"75.0\" dominant-baseline=\"middle\" text-anchor=\"middle\" font-size=\"18px\" font-family=\"Arial\">H</text><rect x=\"70.0\" y=\"105.0\" width=\"59.68359375\" height=\"40\" stroke=\"black\" fill=\"white\" stroke-width=\"1\" /><text x=\"99.841796875\" y=\"125.0\" dominant-baseline=\"middle\" text-anchor=\"middle\" font-size=\"14px\" font-family=\"Arial\">M(\\'q(1)\\')</text><circle cx=\"169.68359375\" cy=\"25.0\" r=\"10.0\" /><rect x=\"149.68359375\" y=\"55.0\" width=\"40\" height=\"40\" stroke=\"black\" fill=\"white\" stroke-width=\"1\" /><text x=\"169.68359375\" y=\"75.0\" dominant-baseline=\"middle\" text-anchor=\"middle\" font-size=\"18px\" font-family=\"Arial\">X</text><rect x=\"209.68359375\" y=\"55.0\" width=\"59.68359375\" height=\"40\" stroke=\"black\" fill=\"white\" stroke-width=\"1\" /><text x=\"239.525390625\" y=\"75.0\" dominant-baseline=\"middle\" text-anchor=\"middle\" font-size=\"14px\" font-family=\"Arial\">M(\\'q(0)\\')</text><rect x=\"209.68359375\" y=\"5.0\" width=\"59.68359375\" height=\"40\" stroke=\"black\" fill=\"white\" stroke-width=\"1\" /><text x=\"239.525390625\" y=\"25.0\" dominant-baseline=\"middle\" text-anchor=\"middle\" font-size=\"14px\" font-family=\"Arial\">M(\\'q(2)\\')</text></svg>'"
      ]
     },
     "execution_count": 35,
     "metadata": {},
     "output_type": "execute_result"
    }
   ],
   "source": [
    "def edge_list_to_cirq_graph(edge_list, nodes=None):\n",
    "    if nodes is None:\n",
    "        num_qubits = len(set(item for sublist in edge_list for item in sublist))\n",
    "        nodes = [cirq.NamedQubit(\"q\" + str(i)) for i in range(num_qubits)]\n",
    "\n",
    "    graph = nx.Graph()\n",
    "    for n in nodes:\n",
    "        graph.add_node(n)\n",
    "\n",
    "    for e in edge_list:\n",
    "        graph.add_edge(nodes[e[0]], nodes[e[1]])\n",
    "    return graph\n",
    "\n",
    "\n",
    "graph = edge_list_to_cirq_graph(edges)\n",
    "router = cirq.RouteCQC(graph)\n",
    "SVGCircuit(router(qc))\n",
    "circuit_to_svg(router(qc))"
   ]
  },
  {
   "cell_type": "code",
   "execution_count": 28,
   "id": "a299d25e-6f69-4df4-b34c-2a1a9174dfb1",
   "metadata": {},
   "outputs": [
    {
     "name": "stderr",
     "output_type": "stream",
     "text": [
      "/Users/arfat/Desktop/qc-test/venv/lib/python3.9/site-packages/tqdm/auto.py:22: TqdmWarning: IProgress not found. Please update jupyter and ipywidgets. See https://ipywidgets.readthedocs.io/en/stable/user_install.html\n",
      "  from .autonotebook import tqdm as notebook_tqdm\n"
     ]
    },
    {
     "name": "stdout",
     "output_type": "stream",
     "text": [
      "+--------+------+--------+\n",
      "| bitstr | cirq | router |\n",
      "+--------+------+--------+\n",
      "|  000   | 500  |  497   |\n",
      "|  001   | 479  |  482   |\n",
      "+--------+------+--------+\n"
     ]
    },
    {
     "data": {
      "text/html": [
       "<table>\n",
       "    <thead>\n",
       "        <tr>\n",
       "            <th>bitstr</th>\n",
       "            <th>cirq</th>\n",
       "            <th>router</th>\n",
       "        </tr>\n",
       "    </thead>\n",
       "    <tbody>\n",
       "        <tr>\n",
       "            <td>000</td>\n",
       "            <td>500</td>\n",
       "            <td>497</td>\n",
       "        </tr>\n",
       "        <tr>\n",
       "            <td>001</td>\n",
       "            <td>479</td>\n",
       "            <td>482</td>\n",
       "        </tr>\n",
       "    </tbody>\n",
       "</table>"
      ],
      "text/plain": [
       "+--------+------+--------+\n",
       "| bitstr | cirq | router |\n",
       "+--------+------+--------+\n",
       "|  000   | 500  |  497   |\n",
       "|  001   | 479  |  482   |\n",
       "+--------+------+--------+"
      ]
     },
     "execution_count": 28,
     "metadata": {},
     "output_type": "execute_result"
    }
   ],
   "source": [
    "simulator = cirq.Simulator()\n",
    "\n",
    "result = simulator.run(qc, repetitions=979)\n",
    "# result_dict = dict(result.multi_measurement_histogram()\n",
    "# keys = list(map(lambda arr: reduce(lambda x, y: str(x) + str(y), arr[::-1]), result_dict.keys()))\n",
    "counts_1 = get_qiskit_like_output(result, keys=[\"cr0\", \"cr1\", \"cr2\"])\n",
    "\n",
    "from qcross.utils import display_results\n",
    "\n",
    "\n",
    "result = simulator.run(router(qc), repetitions=979)\n",
    "counts = get_qiskit_like_output(result, keys=[\"cr0\", \"cr1\", \"cr2\"])\n",
    "\n",
    "display_results({\"cirq\": counts_1, \"router\": counts})"
   ]
  }
 ],
 "metadata": {
  "kernelspec": {
   "display_name": "Python 3 (ipykernel)",
   "language": "python",
   "name": "python3"
  },
  "language_info": {
   "codemirror_mode": {
    "name": "ipython",
    "version": 3
   },
   "file_extension": ".py",
   "mimetype": "text/x-python",
   "name": "python",
   "nbconvert_exporter": "python",
   "pygments_lexer": "ipython3",
   "version": "3.9.12"
  }
 },
 "nbformat": 4,
 "nbformat_minor": 5
}
