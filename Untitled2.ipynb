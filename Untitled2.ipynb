{
 "cells": [
  {
   "cell_type": "code",
   "execution_count": 22,
   "id": "aef5bce0-ea0b-47ec-b08a-0c221f10b0c8",
   "metadata": {},
   "outputs": [
    {
     "ename": "ValueError",
     "evalue": "Circuit has no measurements to sample.",
     "output_type": "error",
     "traceback": [
      "\u001b[0;31m---------------------------------------------------------------------------\u001b[0m",
      "\u001b[0;31mValueError\u001b[0m                                Traceback (most recent call last)",
      "Cell \u001b[0;32mIn [22], line 70\u001b[0m\n\u001b[1;32m     60\u001b[0m \u001b[38;5;66;03m# circuit = apply_transformations(circuit)\u001b[39;00m\n\u001b[1;32m     67\u001b[0m simulator \u001b[38;5;241m=\u001b[39m cirq\u001b[38;5;241m.\u001b[39mSimulator(seed\u001b[38;5;241m=\u001b[39mnp\u001b[38;5;241m.\u001b[39mrandom\u001b[38;5;241m.\u001b[39mRandomState())\n\u001b[0;32m---> 70\u001b[0m result \u001b[38;5;241m=\u001b[39m simulator\u001b[38;5;241m.\u001b[39mrun(circuit, repetitions\u001b[38;5;241m=\u001b[39m\u001b[38;5;241m5542\u001b[39m)\n\u001b[1;32m     71\u001b[0m \u001b[38;5;66;03m# result_dict = dict(result.multi_measurement_histogram()\u001b[39;00m\n\u001b[1;32m     72\u001b[0m \u001b[38;5;66;03m# keys = list(map(lambda arr: reduce(lambda x, y: str(x) + str(y), arr[::-1]), result_dict.keys()))\u001b[39;00m\n\u001b[1;32m     73\u001b[0m counts \u001b[38;5;241m=\u001b[39m get_qiskit_like_output(result, keys\u001b[38;5;241m=\u001b[39m[\u001b[38;5;124m'\u001b[39m\u001b[38;5;124mcr0\u001b[39m\u001b[38;5;124m'\u001b[39m, \u001b[38;5;124m'\u001b[39m\u001b[38;5;124mcr1\u001b[39m\u001b[38;5;124m'\u001b[39m, \u001b[38;5;124m'\u001b[39m\u001b[38;5;124mcr2\u001b[39m\u001b[38;5;124m'\u001b[39m, \u001b[38;5;124m'\u001b[39m\u001b[38;5;124mcr3\u001b[39m\u001b[38;5;124m'\u001b[39m, \u001b[38;5;124m'\u001b[39m\u001b[38;5;124mcr4\u001b[39m\u001b[38;5;124m'\u001b[39m, \u001b[38;5;124m'\u001b[39m\u001b[38;5;124mcr5\u001b[39m\u001b[38;5;124m'\u001b[39m, \u001b[38;5;124m'\u001b[39m\u001b[38;5;124mcr6\u001b[39m\u001b[38;5;124m'\u001b[39m, \u001b[38;5;124m'\u001b[39m\u001b[38;5;124mcr7\u001b[39m\u001b[38;5;124m'\u001b[39m, \u001b[38;5;124m'\u001b[39m\u001b[38;5;124mcr8\u001b[39m\u001b[38;5;124m'\u001b[39m, \u001b[38;5;124m'\u001b[39m\u001b[38;5;124mcr9\u001b[39m\u001b[38;5;124m'\u001b[39m])\n",
      "File \u001b[0;32m~/Desktop/qc-test/venv/lib/python3.9/site-packages/cirq/work/sampler.py:63\u001b[0m, in \u001b[0;36mSampler.run\u001b[0;34m(self, program, param_resolver, repetitions)\u001b[0m\n\u001b[1;32m     37\u001b[0m \u001b[38;5;28;01mdef\u001b[39;00m \u001b[38;5;21mrun\u001b[39m(\n\u001b[1;32m     38\u001b[0m     \u001b[38;5;28mself\u001b[39m,\n\u001b[1;32m     39\u001b[0m     program: \u001b[38;5;124m'\u001b[39m\u001b[38;5;124mcirq.AbstractCircuit\u001b[39m\u001b[38;5;124m'\u001b[39m,\n\u001b[1;32m     40\u001b[0m     param_resolver: \u001b[38;5;124m'\u001b[39m\u001b[38;5;124mcirq.ParamResolverOrSimilarType\u001b[39m\u001b[38;5;124m'\u001b[39m \u001b[38;5;241m=\u001b[39m \u001b[38;5;28;01mNone\u001b[39;00m,\n\u001b[1;32m     41\u001b[0m     repetitions: \u001b[38;5;28mint\u001b[39m \u001b[38;5;241m=\u001b[39m \u001b[38;5;241m1\u001b[39m,\n\u001b[1;32m     42\u001b[0m ) \u001b[38;5;241m-\u001b[39m\u001b[38;5;241m>\u001b[39m \u001b[38;5;124m'\u001b[39m\u001b[38;5;124mcirq.Result\u001b[39m\u001b[38;5;124m'\u001b[39m:\n\u001b[1;32m     43\u001b[0m     \u001b[38;5;124;03m\"\"\"Samples from the given `Circuit`.\u001b[39;00m\n\u001b[1;32m     44\u001b[0m \n\u001b[1;32m     45\u001b[0m \u001b[38;5;124;03m    This mode of operation for a sampler will provide results\u001b[39;00m\n\u001b[0;32m   (...)\u001b[0m\n\u001b[1;32m     61\u001b[0m \u001b[38;5;124;03m        `cirq.Result` that contains all the measurements for a run.\u001b[39;00m\n\u001b[1;32m     62\u001b[0m \u001b[38;5;124;03m    \"\"\"\u001b[39;00m\n\u001b[0;32m---> 63\u001b[0m     \u001b[38;5;28;01mreturn\u001b[39;00m \u001b[38;5;28;43mself\u001b[39;49m\u001b[38;5;241;43m.\u001b[39;49m\u001b[43mrun_sweep\u001b[49m\u001b[43m(\u001b[49m\u001b[43mprogram\u001b[49m\u001b[43m,\u001b[49m\u001b[43m \u001b[49m\u001b[43mparam_resolver\u001b[49m\u001b[43m,\u001b[49m\u001b[43m \u001b[49m\u001b[43mrepetitions\u001b[49m\u001b[43m)\u001b[49m[\u001b[38;5;241m0\u001b[39m]\n",
      "File \u001b[0;32m~/Desktop/qc-test/venv/lib/python3.9/site-packages/cirq/sim/simulator.py:72\u001b[0m, in \u001b[0;36mSimulatesSamples.run_sweep\u001b[0;34m(self, program, params, repetitions)\u001b[0m\n\u001b[1;32m     69\u001b[0m \u001b[38;5;28;01mdef\u001b[39;00m \u001b[38;5;21mrun_sweep\u001b[39m(\n\u001b[1;32m     70\u001b[0m     \u001b[38;5;28mself\u001b[39m, program: \u001b[38;5;124m'\u001b[39m\u001b[38;5;124mcirq.AbstractCircuit\u001b[39m\u001b[38;5;124m'\u001b[39m, params: \u001b[38;5;124m'\u001b[39m\u001b[38;5;124mcirq.Sweepable\u001b[39m\u001b[38;5;124m'\u001b[39m, repetitions: \u001b[38;5;28mint\u001b[39m \u001b[38;5;241m=\u001b[39m \u001b[38;5;241m1\u001b[39m\n\u001b[1;32m     71\u001b[0m ) \u001b[38;5;241m-\u001b[39m\u001b[38;5;241m>\u001b[39m Sequence[\u001b[38;5;124m'\u001b[39m\u001b[38;5;124mcirq.Result\u001b[39m\u001b[38;5;124m'\u001b[39m]:\n\u001b[0;32m---> 72\u001b[0m     \u001b[38;5;28;01mreturn\u001b[39;00m \u001b[38;5;28;43mlist\u001b[39;49m\u001b[43m(\u001b[49m\u001b[38;5;28;43mself\u001b[39;49m\u001b[38;5;241;43m.\u001b[39;49m\u001b[43mrun_sweep_iter\u001b[49m\u001b[43m(\u001b[49m\u001b[43mprogram\u001b[49m\u001b[43m,\u001b[49m\u001b[43m \u001b[49m\u001b[43mparams\u001b[49m\u001b[43m,\u001b[49m\u001b[43m \u001b[49m\u001b[43mrepetitions\u001b[49m\u001b[43m)\u001b[49m\u001b[43m)\u001b[49m\n",
      "File \u001b[0;32m~/Desktop/qc-test/venv/lib/python3.9/site-packages/cirq/sim/simulator.py:95\u001b[0m, in \u001b[0;36mSimulatesSamples.run_sweep_iter\u001b[0;34m(self, program, params, repetitions)\u001b[0m\n\u001b[1;32m     77\u001b[0m \u001b[38;5;124;03m\"\"\"Runs the supplied Circuit, mimicking quantum hardware.\u001b[39;00m\n\u001b[1;32m     78\u001b[0m \n\u001b[1;32m     79\u001b[0m \u001b[38;5;124;03mIn contrast to run, this allows for sweeping over different parameter\u001b[39;00m\n\u001b[0;32m   (...)\u001b[0m\n\u001b[1;32m     92\u001b[0m \u001b[38;5;124;03m    ValueError: If the circuit has no measurements.\u001b[39;00m\n\u001b[1;32m     93\u001b[0m \u001b[38;5;124;03m\"\"\"\u001b[39;00m\n\u001b[1;32m     94\u001b[0m \u001b[38;5;28;01mif\u001b[39;00m \u001b[38;5;129;01mnot\u001b[39;00m program\u001b[38;5;241m.\u001b[39mhas_measurements():\n\u001b[0;32m---> 95\u001b[0m     \u001b[38;5;28;01mraise\u001b[39;00m \u001b[38;5;167;01mValueError\u001b[39;00m(\u001b[38;5;124m\"\u001b[39m\u001b[38;5;124mCircuit has no measurements to sample.\u001b[39m\u001b[38;5;124m\"\u001b[39m)\n\u001b[1;32m     97\u001b[0m \u001b[38;5;28;01mfor\u001b[39;00m param_resolver \u001b[38;5;129;01min\u001b[39;00m study\u001b[38;5;241m.\u001b[39mto_resolvers(params):\n\u001b[1;32m     98\u001b[0m     records \u001b[38;5;241m=\u001b[39m {}\n",
      "\u001b[0;31mValueError\u001b[0m: Circuit has no measurements to sample."
     ]
    }
   ],
   "source": [
    "\n",
    "import cirq\n",
    "\n",
    "from bloqs.ext.cirq import Gates\n",
    "from bloqs.ext.cirq.utils import get_qiskit_like_output\n",
    "from sympy import Symbol\n",
    "from cirq.contrib.qasm_import import circuit_from_qasm\n",
    "import numpy as np\n",
    "\n",
    "def apply_transformations(circuit, context=None):\n",
    "    optimized_circuit = cirq.expand_composite(circuit)\n",
    "\n",
    "    optimized_circuit = cirq.defer_measurements(optimized_circuit)\n",
    "\n",
    "    optimized_circuit = cirq.merge_k_qubit_unitaries(\n",
    "                optimized_circuit, k=2, rewriter=lambda op: op.with_tags(\"merged\"), context=context)\n",
    "\n",
    "    optimized_circuit = cirq.drop_empty_moments(optimized_circuit)\n",
    "\n",
    "    optimized_circuit = cirq.eject_z(optimized_circuit, eject_parameterized=True)\n",
    "\n",
    "    optimized_circuit = cirq.eject_phased_paulis(optimized_circuit, eject_parameterized=True)\n",
    "\n",
    "    optimized_circuit = cirq.drop_negligible_operations(optimized_circuit)\n",
    "\n",
    "    optimized_circuit = cirq.stratified_circuit(optimized_circuit)\n",
    "\n",
    "    optimized_circuit = cirq.synchronize_terminal_measurements(optimized_circuit)\n",
    "\n",
    "    # Assert the original and optimized circuit are equivalent.\n",
    "    cirq.testing.assert_circuits_with_terminal_measurements_are_equivalent(\n",
    "        circuit, optimized_circuit\n",
    "    )\n",
    "\n",
    "    return optimized_circuit\n",
    "\n",
    "\n",
    "qr = [cirq.NamedQubit('q' + str(i)) for i in range(10)]\n",
    "\n",
    "theta = Symbol('p_8dcae8')\n",
    "gamma = Symbol('p_aa831e')\n",
    "_lambda = Symbol('p_84ca0c')\n",
    "\n",
    "qc = cirq.Circuit()\n",
    "\n",
    "qc.append(cirq.rz(theta)(qr[0]))\n",
    "qc.append(Gates.CRZGate(gamma)( qr[1], qr[2] ))\n",
    "qc.append(cirq.ry(_lambda)(qr[1]))\n",
    "\n",
    "\n",
    "\n",
    "circuit = cirq.resolve_parameters(circuit, {\n",
    "    \"p_8dcae8\": 4.2641612072511235,\n",
    "    \"p_aa831e\": 2.5163050709890156,\n",
    "    \"p_84ca0c\": 2.586208953975239\n",
    "}, recursive=True)\n",
    "        \n",
    "\n",
    "\n",
    "\n",
    "# circuit = apply_transformations(circuit)\n",
    "\n",
    "\n",
    "\n",
    "\n",
    "\n",
    "\n",
    "simulator = cirq.Simulator(seed=np.random.RandomState())\n",
    "\n",
    "\n",
    "result = simulator.run(circuit, repetitions=5542)\n",
    "# result_dict = dict(result.multi_measurement_histogram()\n",
    "# keys = list(map(lambda arr: reduce(lambda x, y: str(x) + str(y), arr[::-1]), result_dict.keys()))\n",
    "counts = get_qiskit_like_output(result, keys=['cr0', 'cr1', 'cr2', 'cr3', 'cr4', 'cr5', 'cr6', 'cr7', 'cr8', 'cr9'])\n",
    "\n",
    "RESULT = counts\n",
    "\n",
    "\n",
    "if __name__ == '__main__':\n",
    "    from qcross.utils import display_results\n",
    "    display_results( {\"result\": RESULT })\n",
    "\n"
   ]
  },
  {
   "cell_type": "code",
   "execution_count": 28,
   "id": "78d3af89-abab-4c7d-8487-0916078b12ba",
   "metadata": {},
   "outputs": [
    {
     "data": {
      "text/plain": [
       "\u001b[0;31mSignature:\u001b[0m\n",
       "\u001b[0mcircuit\u001b[0m\u001b[0;34m.\u001b[0m\u001b[0mwrite_memory\u001b[0m\u001b[0;34m(\u001b[0m\u001b[0;34m\u001b[0m\n",
       "\u001b[0;34m\u001b[0m    \u001b[0;34m*\u001b[0m\u001b[0;34m,\u001b[0m\u001b[0;34m\u001b[0m\n",
       "\u001b[0;34m\u001b[0m    \u001b[0mregion_name\u001b[0m\u001b[0;34m:\u001b[0m \u001b[0mstr\u001b[0m\u001b[0;34m,\u001b[0m\u001b[0;34m\u001b[0m\n",
       "\u001b[0;34m\u001b[0m    \u001b[0mvalue\u001b[0m\u001b[0;34m:\u001b[0m \u001b[0mUnion\u001b[0m\u001b[0;34m[\u001b[0m\u001b[0mint\u001b[0m\u001b[0;34m,\u001b[0m \u001b[0mfloat\u001b[0m\u001b[0;34m,\u001b[0m \u001b[0mSequence\u001b[0m\u001b[0;34m[\u001b[0m\u001b[0mint\u001b[0m\u001b[0;34m]\u001b[0m\u001b[0;34m,\u001b[0m \u001b[0mSequence\u001b[0m\u001b[0;34m[\u001b[0m\u001b[0mfloat\u001b[0m\u001b[0;34m]\u001b[0m\u001b[0;34m]\u001b[0m\u001b[0;34m,\u001b[0m\u001b[0;34m\u001b[0m\n",
       "\u001b[0;34m\u001b[0m    \u001b[0moffset\u001b[0m\u001b[0;34m:\u001b[0m \u001b[0mOptional\u001b[0m\u001b[0;34m[\u001b[0m\u001b[0mint\u001b[0m\u001b[0;34m]\u001b[0m \u001b[0;34m=\u001b[0m \u001b[0;32mNone\u001b[0m\u001b[0;34m,\u001b[0m\u001b[0;34m\u001b[0m\n",
       "\u001b[0;34m\u001b[0m\u001b[0;34m)\u001b[0m \u001b[0;34m->\u001b[0m \u001b[0;34m'Program'\u001b[0m\u001b[0;34m\u001b[0m\u001b[0;34m\u001b[0m\u001b[0m\n",
       "\u001b[0;31mDocstring:\u001b[0m <no docstring>\n",
       "\u001b[0;31mSource:\u001b[0m   \n",
       "    \u001b[0;32mdef\u001b[0m \u001b[0mwrite_memory\u001b[0m\u001b[0;34m(\u001b[0m\u001b[0;34m\u001b[0m\n",
       "\u001b[0;34m\u001b[0m        \u001b[0mself\u001b[0m\u001b[0;34m,\u001b[0m\u001b[0;34m\u001b[0m\n",
       "\u001b[0;34m\u001b[0m        \u001b[0;34m*\u001b[0m\u001b[0;34m,\u001b[0m\u001b[0;34m\u001b[0m\n",
       "\u001b[0;34m\u001b[0m        \u001b[0mregion_name\u001b[0m\u001b[0;34m:\u001b[0m \u001b[0mstr\u001b[0m\u001b[0;34m,\u001b[0m\u001b[0;34m\u001b[0m\n",
       "\u001b[0;34m\u001b[0m        \u001b[0mvalue\u001b[0m\u001b[0;34m:\u001b[0m \u001b[0mUnion\u001b[0m\u001b[0;34m[\u001b[0m\u001b[0mint\u001b[0m\u001b[0;34m,\u001b[0m \u001b[0mfloat\u001b[0m\u001b[0;34m,\u001b[0m \u001b[0mSequence\u001b[0m\u001b[0;34m[\u001b[0m\u001b[0mint\u001b[0m\u001b[0;34m]\u001b[0m\u001b[0;34m,\u001b[0m \u001b[0mSequence\u001b[0m\u001b[0;34m[\u001b[0m\u001b[0mfloat\u001b[0m\u001b[0;34m]\u001b[0m\u001b[0;34m]\u001b[0m\u001b[0;34m,\u001b[0m\u001b[0;34m\u001b[0m\n",
       "\u001b[0;34m\u001b[0m        \u001b[0moffset\u001b[0m\u001b[0;34m:\u001b[0m \u001b[0mOptional\u001b[0m\u001b[0;34m[\u001b[0m\u001b[0mint\u001b[0m\u001b[0;34m]\u001b[0m \u001b[0;34m=\u001b[0m \u001b[0;32mNone\u001b[0m\u001b[0;34m,\u001b[0m\u001b[0;34m\u001b[0m\n",
       "\u001b[0;34m\u001b[0m    \u001b[0;34m)\u001b[0m \u001b[0;34m->\u001b[0m \u001b[0;34m\"Program\"\u001b[0m\u001b[0;34m:\u001b[0m\u001b[0;34m\u001b[0m\n",
       "\u001b[0;34m\u001b[0m        \u001b[0mself\u001b[0m\u001b[0;34m.\u001b[0m\u001b[0m_memory\u001b[0m\u001b[0;34m.\u001b[0m\u001b[0m_write_value\u001b[0m\u001b[0;34m(\u001b[0m\u001b[0mparameter\u001b[0m\u001b[0;34m=\u001b[0m\u001b[0mParameterAref\u001b[0m\u001b[0;34m(\u001b[0m\u001b[0mname\u001b[0m\u001b[0;34m=\u001b[0m\u001b[0mregion_name\u001b[0m\u001b[0;34m,\u001b[0m \u001b[0mindex\u001b[0m\u001b[0;34m=\u001b[0m\u001b[0moffset\u001b[0m \u001b[0;32mor\u001b[0m \u001b[0;36m0\u001b[0m\u001b[0;34m)\u001b[0m\u001b[0;34m,\u001b[0m \u001b[0mvalue\u001b[0m\u001b[0;34m=\u001b[0m\u001b[0mvalue\u001b[0m\u001b[0;34m)\u001b[0m\u001b[0;34m\u001b[0m\n",
       "\u001b[0;34m\u001b[0m        \u001b[0;32mreturn\u001b[0m \u001b[0mself\u001b[0m\u001b[0;34m\u001b[0m\u001b[0;34m\u001b[0m\u001b[0m\n",
       "\u001b[0;31mFile:\u001b[0m      ~/Desktop/qc-test/venv/lib/python3.9/site-packages/pyquil/quil.py\n",
       "\u001b[0;31mType:\u001b[0m      method\n"
      ]
     },
     "metadata": {},
     "output_type": "display_data"
    }
   ],
   "source": [
    "from pyquil import Program, get_qc\n",
    "from pyquil.gates import *\n",
    "\n",
    "circuit = Program()\n",
    "\n",
    "qr = circuit.declare(\"ro\", \"BIT\", 10)\n",
    "\n",
    "p_8dcae8 = circuit.declare('p_8dcae8', 'REAL')\n",
    "\n",
    "circuit.write_memory??"
   ]
  },
  {
   "cell_type": "code",
   "execution_count": 77,
   "id": "55dbf949-0211-466c-b515-d48f4dce2121",
   "metadata": {},
   "outputs": [
    {
     "data": {
      "text/plain": [
       "<Gate CONTROLLED X 0 1>"
      ]
     },
     "execution_count": 77,
     "metadata": {},
     "output_type": "execute_result"
    }
   ],
   "source": []
  },
  {
   "cell_type": "code",
   "execution_count": 6,
   "id": "59c67a74-59b1-4854-9d92-4626599891fc",
   "metadata": {},
   "outputs": [
    {
     "name": "stdout",
     "output_type": "stream",
     "text": [
      "qr_0: ───@───\n",
      "         │\n",
      "qr_1: ───X───\n",
      "[[1.+0.j 0.+0.j 0.+0.j 0.+0.j]\n",
      " [0.+0.j 0.+0.j 0.+0.j 1.+0.j]\n",
      " [0.+0.j 0.+0.j 1.+0.j 0.+0.j]\n",
      " [0.+0.j 1.+0.j 0.+0.j 0.+0.j]]\n",
      "[[1.+0.j 0.+0.j 0.+0.j 0.+0.j]\n",
      " [0.+0.j 1.+0.j 0.+0.j 0.+0.j]\n",
      " [0.+0.j 0.+0.j 0.+0.j 1.+0.j]\n",
      " [0.+0.j 0.+0.j 1.+0.j 0.+0.j]]\n"
     ]
    }
   ],
   "source": [
    "\n",
    "import cirq\n",
    "\n",
    "from bloqs.ext.cirq import Gates\n",
    "from bloqs.ext.cirq.utils import get_qiskit_like_output\n",
    "from sympy import Symbol\n",
    "from cirq.contrib.qasm_import import circuit_from_qasm\n",
    "import numpy as np\n",
    "\n",
    "\n",
    "qr = [cirq.NamedQubit('q' + str(i)) for i in range(3)]\n",
    "\n",
    "\n",
    "\n",
    "circuit = cirq.Circuit()\n",
    "\n",
    "\n",
    "circuit.append(Gates.CXGate( qr[1], qr[0] ))\n",
    "# circuit.append(Gates.CXGate( qr[0], qr[1] ))\n",
    "\n",
    "c = circuit_from_qasm(\"\"\"\n",
    "OPENQASM 2.0;\n",
    "include \"qelib1.inc\";\n",
    "qreg qr[2];\n",
    "creg cr[2];\n",
    "cx qr[0],qr[1];\n",
    "\"\"\")\n",
    "cirq_U = cirq.unitary(c)\n",
    "print(c)\n",
    "\n",
    "\n",
    "# result = simulator.run(circuit, repetitions=489)\n",
    "# # result_dict = dict(result.multi_measurement_histogram()\n",
    "# # keys = list(map(lambda arr: reduce(lambda x, y: str(x) + str(y), arr[::-1]), result_dict.keys()))\n",
    "# counts = get_qiskit_like_output(result, keys=['cr0', 'cr1', 'cr2'])\n",
    "\n",
    "# RESULT2 = counts\n",
    "# cirq_U\n",
    "\n",
    "# from cirq.contrib import circuit_to_latex_using_qcircuit\n",
    "# from cirq.contrib.svg import SVGCircuit\n",
    "# SVGCircuit(c)\n",
    "print(UNITARY)\n",
    "print(cirq_U)"
   ]
  },
  {
   "cell_type": "code",
   "execution_count": null,
   "id": "483fa095-074d-44e8-94ca-d494276475b7",
   "metadata": {},
   "outputs": [],
   "source": [
    "from pyquil import Program, get_qc\n",
    "from pyquil.gates import *\n",
    "\n",
    "qc = Program()\n",
    "\n",
    "qr = qc.declare(\"ro\", \"BIT\", 2)\n",
    "\n",
    "qc.inst(H(0))\n",
    "qc.inst(CNOT(0, 1))\n",
    "qc.inst(H(1))\n",
    "qc.inst(RZ(6.163759533339787, 0))\n",
    "\n",
    "qc += MEASURE(0, qr[0])\n",
    "qc += MEASURE(1, qr[1])\n",
    "\n",
    "qc.wrap_in_numshots_loop(20)\n",
    "\n",
    "print(qc)\n",
    "\n",
    "qvm = get_qc(\"9q-square-qvm\", execution_timeout=60, compiler_timeout=60)\n",
    "\n",
    "executable = qvm.compile(qc, protoquil=True)\n",
    "\n",
    "result_pyquil = qvm.run(executable).readout_data.get('ro')\n"
   ]
  },
  {
   "cell_type": "code",
   "execution_count": 3,
   "id": "5598db94-b2a1-42df-b430-c8dcdebe9d0c",
   "metadata": {},
   "outputs": [
    {
     "name": "stdout",
     "output_type": "stream",
     "text": [
      "+--------+------+--------+\n",
      "| bitstr | cirq | qiskit |\n",
      "+--------+------+--------+\n",
      "|  000   |  60  |   51   |\n",
      "|  001   |  17  |   20   |\n",
      "|  010   |  12  |   17   |\n",
      "|  011   |  22  |   34   |\n",
      "|  100   | 239  |  209   |\n",
      "|  101   |  23  |   41   |\n",
      "|  110   | 110  |  116   |\n",
      "|  111   |  6   |   1    |\n",
      "+--------+------+--------+\n"
     ]
    },
    {
     "name": "stderr",
     "output_type": "stream",
     "text": [
      "/Users/arfat/Desktop/qc-test/venv/lib/python3.9/site-packages/tqdm/auto.py:22: TqdmWarning: IProgress not found. Please update jupyter and ipywidgets. See https://ipywidgets.readthedocs.io/en/stable/user_install.html\n",
      "  from .autonotebook import tqdm as notebook_tqdm\n"
     ]
    },
    {
     "data": {
      "text/html": [
       "<table>\n",
       "    <thead>\n",
       "        <tr>\n",
       "            <th>bitstr</th>\n",
       "            <th>cirq</th>\n",
       "            <th>qiskit</th>\n",
       "        </tr>\n",
       "    </thead>\n",
       "    <tbody>\n",
       "        <tr>\n",
       "            <td>000</td>\n",
       "            <td>60</td>\n",
       "            <td>51</td>\n",
       "        </tr>\n",
       "        <tr>\n",
       "            <td>001</td>\n",
       "            <td>17</td>\n",
       "            <td>20</td>\n",
       "        </tr>\n",
       "        <tr>\n",
       "            <td>010</td>\n",
       "            <td>12</td>\n",
       "            <td>17</td>\n",
       "        </tr>\n",
       "        <tr>\n",
       "            <td>011</td>\n",
       "            <td>22</td>\n",
       "            <td>34</td>\n",
       "        </tr>\n",
       "        <tr>\n",
       "            <td>100</td>\n",
       "            <td>239</td>\n",
       "            <td>209</td>\n",
       "        </tr>\n",
       "        <tr>\n",
       "            <td>101</td>\n",
       "            <td>23</td>\n",
       "            <td>41</td>\n",
       "        </tr>\n",
       "        <tr>\n",
       "            <td>110</td>\n",
       "            <td>110</td>\n",
       "            <td>116</td>\n",
       "        </tr>\n",
       "        <tr>\n",
       "            <td>111</td>\n",
       "            <td>6</td>\n",
       "            <td>1</td>\n",
       "        </tr>\n",
       "    </tbody>\n",
       "</table>"
      ],
      "text/plain": [
       "+--------+------+--------+\n",
       "| bitstr | cirq | qiskit |\n",
       "+--------+------+--------+\n",
       "|  000   |  60  |   51   |\n",
       "|  001   |  17  |   20   |\n",
       "|  010   |  12  |   17   |\n",
       "|  011   |  22  |   34   |\n",
       "|  100   | 239  |  209   |\n",
       "|  101   |  23  |   41   |\n",
       "|  110   | 110  |  116   |\n",
       "|  111   |  6   |   1    |\n",
       "+--------+------+--------+"
      ]
     },
     "execution_count": 3,
     "metadata": {},
     "output_type": "execute_result"
    }
   ],
   "source": [
    "from qcross.utils import display_results\n",
    "\n",
    "display_results({\"qiskit\": RESULT, \"cirq\": RESULT2 })"
   ]
  },
  {
   "cell_type": "code",
   "execution_count": 10,
   "id": "7373e5da-a47a-4dd9-b218-268077c4306a",
   "metadata": {},
   "outputs": [
    {
     "ename": "NameError",
     "evalue": "name 'result' is not defined",
     "output_type": "error",
     "traceback": [
      "\u001b[0;31m---------------------------------------------------------------------------\u001b[0m",
      "\u001b[0;31mNameError\u001b[0m                                 Traceback (most recent call last)",
      "Cell \u001b[0;32mIn [10], line 1\u001b[0m\n\u001b[0;32m----> 1\u001b[0m result\u001b[38;5;241m.\u001b[39mmulti_measurement_histogram(keys\u001b[38;5;241m=\u001b[39m[\u001b[38;5;124m'\u001b[39m\u001b[38;5;124mcr0\u001b[39m\u001b[38;5;124m'\u001b[39m, \u001b[38;5;124m'\u001b[39m\u001b[38;5;124mcr1\u001b[39m\u001b[38;5;124m'\u001b[39m, \u001b[38;5;124m'\u001b[39m\u001b[38;5;124mcr2\u001b[39m\u001b[38;5;124m'\u001b[39m])\n",
      "\u001b[0;31mNameError\u001b[0m: name 'result' is not defined"
     ]
    }
   ],
   "source": [
    "result.multi_measurement_histogram(keys=['cr0', 'cr1', 'cr2'])"
   ]
  },
  {
   "cell_type": "code",
   "execution_count": 4,
   "id": "f0a21178-b8e0-463d-a53c-ffb646104523",
   "metadata": {},
   "outputs": [
    {
     "data": {
      "text/plain": [
       "['__class__',\n",
       " '__delattr__',\n",
       " '__dict__',\n",
       " '__dir__',\n",
       " '__doc__',\n",
       " '__eq__',\n",
       " '__format__',\n",
       " '__ge__',\n",
       " '__getattr__',\n",
       " '__getattribute__',\n",
       " '__gt__',\n",
       " '__hash__',\n",
       " '__init__',\n",
       " '__init_subclass__',\n",
       " '__le__',\n",
       " '__lt__',\n",
       " '__module__',\n",
       " '__ne__',\n",
       " '__new__',\n",
       " '__reduce__',\n",
       " '__reduce_ex__',\n",
       " '__repr__',\n",
       " '__setattr__',\n",
       " '__sizeof__',\n",
       " '__str__',\n",
       " '__subclasshook__',\n",
       " '__weakref__',\n",
       " '_get_experiment',\n",
       " '_metadata',\n",
       " 'backend_name',\n",
       " 'backend_version',\n",
       " 'data',\n",
       " 'date',\n",
       " 'from_dict',\n",
       " 'get_counts',\n",
       " 'get_memory',\n",
       " 'get_statevector',\n",
       " 'get_unitary',\n",
       " 'header',\n",
       " 'job_id',\n",
       " 'qobj_id',\n",
       " 'results',\n",
       " 'status',\n",
       " 'success',\n",
       " 'to_dict']"
      ]
     },
     "execution_count": 4,
     "metadata": {},
     "output_type": "execute_result"
    }
   ],
   "source": [
    "dir(r)"
   ]
  },
  {
   "cell_type": "code",
   "execution_count": 8,
   "id": "7f138f29-b2e4-4d53-b06c-aaa3716def0d",
   "metadata": {},
   "outputs": [
    {
     "data": {
      "text/plain": [
       "{'counts': {'0x1': 14,\n",
       "  '0x6': 123,\n",
       "  '0x4': 233,\n",
       "  '0x7': 4,\n",
       "  '0x3': 28,\n",
       "  '0x5': 30,\n",
       "  '0x0': 46,\n",
       "  '0x2': 11}}"
      ]
     },
     "execution_count": 8,
     "metadata": {},
     "output_type": "execute_result"
    }
   ],
   "source": [
    "r.data()"
   ]
  },
  {
   "cell_type": "code",
   "execution_count": 9,
   "id": "459de9e9-b65c-4e5f-8692-b3a27cee839c",
   "metadata": {},
   "outputs": [
    {
     "data": {
      "text/plain": [
       "{'001': 14,\n",
       " '110': 123,\n",
       " '100': 233,\n",
       " '111': 4,\n",
       " '011': 28,\n",
       " '101': 30,\n",
       " '000': 46,\n",
       " '010': 11}"
      ]
     },
     "execution_count": 9,
     "metadata": {},
     "output_type": "execute_result"
    }
   ],
   "source": [
    "r.get_counts()"
   ]
  },
  {
   "cell_type": "code",
   "execution_count": 26,
   "id": "9f41f585-75bd-416d-b3eb-9c906ce86e34",
   "metadata": {},
   "outputs": [
    {
     "data": {
      "image/svg+xml": [
       "<svg xmlns=\"http://www.w3.org/2000/svg\" width=\"290.359375\" height=\"100.0\"><line x1=\"30.0\" x2=\"260.359375\" y1=\"25.0\" y2=\"25.0\" stroke=\"#1967d2\" stroke-width=\"1\" /><line x1=\"30.0\" x2=\"260.359375\" y1=\"75.0\" y2=\"75.0\" stroke=\"#1967d2\" stroke-width=\"1\" /><line x1=\"150.0\" x2=\"150.0\" y1=\"25.0\" y2=\"75.0\" stroke=\"black\" stroke-width=\"3\" /><rect x=\"10.0\" y=\"5.0\" width=\"40\" height=\"40\" stroke=\"black\" fill=\"white\" stroke-width=\"0\" /><text x=\"30.0\" y=\"25.0\" dominant-baseline=\"middle\" text-anchor=\"middle\" font-size=\"14px\" font-family=\"Arial\">0: </text><rect x=\"10.0\" y=\"55.0\" width=\"40\" height=\"40\" stroke=\"black\" fill=\"white\" stroke-width=\"0\" /><text x=\"30.0\" y=\"75.0\" dominant-baseline=\"middle\" text-anchor=\"middle\" font-size=\"14px\" font-family=\"Arial\">1: </text><rect x=\"70.0\" y=\"5.0\" width=\"40\" height=\"40\" stroke=\"black\" fill=\"white\" stroke-width=\"1\" /><text x=\"90.0\" y=\"25.0\" dominant-baseline=\"middle\" text-anchor=\"middle\" font-size=\"18px\" font-family=\"Arial\">X</text><circle cx=\"150.0\" cy=\"25.0\" r=\"10.0\" /><rect x=\"130.0\" y=\"55.0\" width=\"40\" height=\"40\" stroke=\"black\" fill=\"white\" stroke-width=\"1\" /><text x=\"150.0\" y=\"75.0\" dominant-baseline=\"middle\" text-anchor=\"middle\" font-size=\"18px\" font-family=\"Arial\">X</text><rect x=\"190.0\" y=\"5.0\" width=\"50.359375\" height=\"40\" stroke=\"black\" fill=\"white\" stroke-width=\"1\" /><text x=\"215.1796875\" y=\"25.0\" dominant-baseline=\"middle\" text-anchor=\"middle\" font-size=\"14px\" font-family=\"Arial\">M('q0')</text><rect x=\"190.0\" y=\"55.0\" width=\"50.359375\" height=\"40\" stroke=\"black\" fill=\"white\" stroke-width=\"1\" /><text x=\"215.1796875\" y=\"75.0\" dominant-baseline=\"middle\" text-anchor=\"middle\" font-size=\"14px\" font-family=\"Arial\">M('q1')</text></svg>"
      ],
      "text/plain": [
       "<cirq.contrib.svg.svg.SVGCircuit at 0x282a63730>"
      ]
     },
     "execution_count": 26,
     "metadata": {},
     "output_type": "execute_result"
    }
   ],
   "source": [
    "import cirq\n",
    "\n",
    "# Define a circuit\n",
    "q0, q1 = cirq.LineQubit.range(2)\n",
    "circuit = cirq.Circuit(\n",
    "    cirq.X(q0),\n",
    "    cirq.CNOT(q0, q1),\n",
    "    cirq.measure(q0, key='q0'),\n",
    "    cirq.measure(q1, key='q1')\n",
    ")\n",
    "from cirq.contrib.svg import SVGCircuit\n",
    "SVGCircuit(circuit)"
   ]
  },
  {
   "cell_type": "code",
   "execution_count": 13,
   "id": "abada8c0-abad-4bf9-b55d-1697c3b02937",
   "metadata": {},
   "outputs": [],
   "source": [
    "from pyquil.gates import *"
   ]
  },
  {
   "cell_type": "code",
   "execution_count": 19,
   "id": "074af1c7-ae5e-4067-84e7-74730bec0107",
   "metadata": {},
   "outputs": [
    {
     "data": {
      "text/plain": [
       "<Gate CONTROLLED H 2 0>"
      ]
     },
     "execution_count": 19,
     "metadata": {},
     "output_type": "execute_result"
    }
   ],
   "source": [
    "H(0).controlled(2)"
   ]
  },
  {
   "cell_type": "code",
   "execution_count": 42,
   "id": "71f6faeb-8b7b-4796-9b86-5abd0c8d9318",
   "metadata": {},
   "outputs": [
    {
     "name": "stdout",
     "output_type": "stream",
     "text": [
      "Circuit:\n",
      "q0: ───H───@───Rz(1.96π)───M───\n",
      "           │\n",
      "q1: ───────X───H───────────M───\n",
      "Results:\n",
      "q0=11010001010011110101\n",
      "q1=01100111111111111010\n"
     ]
    },
    {
     "data": {
      "text/plain": [
       "'<svg xmlns=\"http://www.w3.org/2000/svg\" width=\"371.735625\" height=\"100.0\"><line x1=\"30.0\" x2=\"341.735625\" y1=\"25.0\" y2=\"25.0\" stroke=\"#1967d2\" stroke-width=\"1\" /><line x1=\"30.0\" x2=\"341.735625\" y1=\"75.0\" y2=\"75.0\" stroke=\"#1967d2\" stroke-width=\"1\" /><line x1=\"150.0\" x2=\"150.0\" y1=\"25.0\" y2=\"75.0\" stroke=\"black\" stroke-width=\"3\" /><rect x=\"10.0\" y=\"5.0\" width=\"40\" height=\"40\" stroke=\"black\" fill=\"white\" stroke-width=\"0\" /><text x=\"30.0\" y=\"25.0\" dominant-baseline=\"middle\" text-anchor=\"middle\" font-size=\"14px\" font-family=\"Arial\">q0: </text><rect x=\"10.0\" y=\"55.0\" width=\"40\" height=\"40\" stroke=\"black\" fill=\"white\" stroke-width=\"0\" /><text x=\"30.0\" y=\"75.0\" dominant-baseline=\"middle\" text-anchor=\"middle\" font-size=\"14px\" font-family=\"Arial\">q1: </text><rect x=\"70.0\" y=\"5.0\" width=\"40\" height=\"40\" stroke=\"black\" fill=\"white\" stroke-width=\"1\" /><text x=\"90.0\" y=\"25.0\" dominant-baseline=\"middle\" text-anchor=\"middle\" font-size=\"18px\" font-family=\"Arial\">H</text><circle cx=\"150.0\" cy=\"25.0\" r=\"10.0\" /><rect x=\"130.0\" y=\"55.0\" width=\"40\" height=\"40\" stroke=\"black\" fill=\"white\" stroke-width=\"1\" /><text x=\"150.0\" y=\"75.0\" dominant-baseline=\"middle\" text-anchor=\"middle\" font-size=\"18px\" font-family=\"Arial\">X</text><rect x=\"190.0\" y=\"55.0\" width=\"71.735625\" height=\"40\" stroke=\"black\" fill=\"white\" stroke-width=\"1\" /><text x=\"225.8678125\" y=\"75.0\" dominant-baseline=\"middle\" text-anchor=\"middle\" font-size=\"18px\" font-family=\"Arial\">H</text><rect x=\"190.0\" y=\"5.0\" width=\"71.735625\" height=\"40\" stroke=\"black\" fill=\"white\" stroke-width=\"1\" /><text x=\"225.8678125\" y=\"25.0\" dominant-baseline=\"middle\" text-anchor=\"middle\" font-size=\"14px\" font-family=\"Arial\">Rz(1.96π)</text><rect x=\"281.735625\" y=\"5.0\" width=\"40\" height=\"40\" stroke=\"black\" fill=\"white\" stroke-width=\"1\" /><text x=\"301.735625\" y=\"25.0\" dominant-baseline=\"middle\" text-anchor=\"middle\" font-size=\"18px\" font-family=\"Arial\">M</text><rect x=\"281.735625\" y=\"55.0\" width=\"40\" height=\"40\" stroke=\"black\" fill=\"white\" stroke-width=\"1\" /><text x=\"301.735625\" y=\"75.0\" dominant-baseline=\"middle\" text-anchor=\"middle\" font-size=\"18px\" font-family=\"Arial\">M</text></svg>'"
      ]
     },
     "execution_count": 42,
     "metadata": {},
     "output_type": "execute_result"
    }
   ],
   "source": [
    "import cirq\n",
    "\n",
    "qr = cirq.NamedQubit.range(2, prefix='q')\n",
    "\n",
    "# Create a circuit that applies a square root of NOT gate, then measures the qubit.\n",
    "circuit = cirq.Circuit(\n",
    "    cirq.H(qr[0]),\n",
    "    cirq.CX(qr[0], qr[1]), \n",
    "    cirq.H(qr[1]),\n",
    "    cirq.rz(6.163759533339787)(qr[0]),\n",
    "    cirq.measure(qr[0], key='q0'),\n",
    "    cirq.measure(qr[1], key='q1')\n",
    ")\n",
    "print(\"Circuit:\")\n",
    "print(circuit)\n",
    "\n",
    "# Simulate the circuit several times.\n",
    "simulator = cirq.Simulator()\n",
    "result = simulator.run(circuit, repetitions=20)\n",
    "print(\"Results:\")\n",
    "print(result)\n",
    "\n",
    "from cirq.contrib.svg import SVGCircuit, circuit_to_svg\n",
    "a = SVGCircuit(circuit)\n",
    "dir(a)\n",
    "circuit_to_svg(circuit)"
   ]
  },
  {
   "cell_type": "code",
   "execution_count": 46,
   "id": "6ece67a0-8cb4-4c0e-8132-bbb5bb03bd78",
   "metadata": {},
   "outputs": [
    {
     "ename": "TypeError",
     "evalue": "__init__() missing 2 required positional arguments: 'operations' and 'qubits'",
     "output_type": "error",
     "traceback": [
      "\u001b[0;31m---------------------------------------------------------------------------\u001b[0m",
      "\u001b[0;31mTypeError\u001b[0m                                 Traceback (most recent call last)",
      "Cell \u001b[0;32mIn [46], line 3\u001b[0m\n\u001b[1;32m      1\u001b[0m \u001b[38;5;28;01mfrom\u001b[39;00m \u001b[38;5;21;01mcirq_rigetti\u001b[39;00m\u001b[38;5;21;01m.\u001b[39;00m\u001b[38;5;21;01mquil_output\u001b[39;00m \u001b[38;5;28;01mimport\u001b[39;00m QuilOutput\n\u001b[0;32m----> 3\u001b[0m QuilOutput()\n",
      "\u001b[0;31mTypeError\u001b[0m: __init__() missing 2 required positional arguments: 'operations' and 'qubits'"
     ]
    }
   ],
   "source": [
    "from cirq_rigetti.quil_output import QuilOutput\n",
    "\n",
    "QuilOutput()"
   ]
  },
  {
   "cell_type": "code",
   "execution_count": 3,
   "id": "df62fafc-399c-4fed-9a3b-ccc2b78c35fd",
   "metadata": {},
   "outputs": [
    {
     "name": "stdout",
     "output_type": "stream",
     "text": [
      "DECLARE ro BIT[2]\n",
      "H 0\n",
      "CNOT 0 1\n",
      "H 1\n",
      "RZ(6.163759533339787) 0\n",
      "MEASURE 0 ro[0]\n",
      "MEASURE 1 ro[1]\n",
      "\n",
      "[[0 1]\n",
      " [0 1]\n",
      " [1 0]\n",
      " [0 0]\n",
      " [1 0]\n",
      " [0 0]\n",
      " [1 1]\n",
      " [1 1]\n",
      " [1 0]\n",
      " [0 1]\n",
      " [1 0]\n",
      " [0 0]\n",
      " [1 0]\n",
      " [0 1]\n",
      " [1 0]\n",
      " [0 1]\n",
      " [0 0]\n",
      " [0 1]\n",
      " [0 1]\n",
      " [0 0]]\n"
     ]
    }
   ],
   "source": [
    "from pyquil import Program, get_qc\n",
    "from pyquil.gates import *\n",
    "\n",
    "qc = Program()\n",
    "\n",
    "qr = qc.declare(\"ro\", \"BIT\", 2)\n",
    "\n",
    "qc.inst(H(0))\n",
    "qc.inst(CNOT(0, 1))\n",
    "qc.inst(H(1))\n",
    "qc.inst(RZ(6.163759533339787, 0))\n",
    "\n",
    "qc += MEASURE(0, qr[0])\n",
    "qc += MEASURE(1, qr[1])\n",
    "\n",
    "qc.wrap_in_numshots_loop(20)\n",
    "\n",
    "print(qc)\n",
    "\n",
    "qvm = get_qc(\"9q-square-qvm\", execution_timeout=60, compiler_timeout=60)\n",
    "\n",
    "executable = qvm.compile(qc, protoquil=True)\n",
    "\n",
    "result = qvm.run(executable).readout_data.get('ro')\n",
    "\n",
    "print(result)\n"
   ]
  },
  {
   "cell_type": "code",
   "execution_count": 67,
   "id": "4dca604b-0a3d-44af-b131-451daba9f2ee",
   "metadata": {},
   "outputs": [
    {
     "data": {
      "text/plain": [
       "array([[1.+0.j, 0.+0.j, 0.+0.j, 0.+0.j],\n",
       "       [0.+0.j, 1.+0.j, 0.+0.j, 0.+0.j],\n",
       "       [0.+0.j, 0.+0.j, 0.+0.j, 1.+0.j],\n",
       "       [0.+0.j, 0.+0.j, 1.+0.j, 0.+0.j]])"
      ]
     },
     "execution_count": 67,
     "metadata": {},
     "output_type": "execute_result"
    }
   ],
   "source": [
    "from pyquil.latex import "
   ]
  },
  {
   "cell_type": "code",
   "execution_count": 4,
   "id": "351ba90b-9014-4a88-963e-592abe728a48",
   "metadata": {},
   "outputs": [
    {
     "name": "stdout",
     "output_type": "stream",
     "text": [
      "H 0\n",
      "\n"
     ]
    },
    {
     "data": {
      "text/plain": [
       "[<Gate H 0>]"
      ]
     },
     "execution_count": 4,
     "metadata": {},
     "output_type": "execute_result"
    }
   ],
   "source": [
    "from pyquil import Program\n",
    "from pyquil.gates import *\n",
    "from pyquil.parser import parse\n",
    "\n",
    "# Assume you have a pyQuil circuit called `pyquil_circuit`\n",
    "pyquil_circuit = Program()\n",
    "\n",
    "\n",
    "# Convert the PyQuil circuit to its Quil representation\n",
    "quil_representation = pyquil_circuit.out()\n",
    "\n",
    "print(quil_representation)\n",
    "\n",
    "# Convert the Quil representation back to a PyQuil circuit\n",
    "reconstructed_circuit = parse(quil_representation)\n",
    "reconstructed_circuit"
   ]
  },
  {
   "cell_type": "code",
   "execution_count": 57,
   "id": "3c23427f-cbad-428a-9477-1a9a9ee75ef3",
   "metadata": {},
   "outputs": [
    {
     "name": "stdout",
     "output_type": "stream",
     "text": [
      "      ┌──┐\n",
      "0: ────X─────X───@───────X───\n",
      "       │         │       │\n",
      "1: ────┼@────@───X───H───@───\n",
      "       ││    │\n",
      "2: ────@┼────X───────H───X───\n",
      "        │                │\n",
      "3: ─────X────────────────@───\n",
      "      └──┘\n",
      "                                             (0, 5)───(0, 6)\n",
      "                                             │        │\n",
      "                                             │        │\n",
      "                                    (1, 4)───(1, 5)───(1, 6)───(1, 7)\n",
      "                                    │        │        │        │\n",
      "                                    │        │        │        │\n",
      "                           (2, 3)───(2, 4)───(2, 5)───(2, 6)───(2, 7)───(2, 8)\n",
      "                           │        │        │        │        │        │\n",
      "                           │        │        │        │        │        │\n",
      "                  (3, 2)───(3, 3)───(3, 4)───(3, 5)───(3, 6)───(3, 7)───(3, 8)───(3, 9)\n",
      "                  │        │        │        │        │        │        │        │\n",
      "                  │        │        │        │        │        │        │        │\n",
      "         (4, 1)───(4, 2)───(4, 3)───(4, 4)───(4, 5)───(4, 6)───(4, 7)───(4, 8)───(4, 9)\n",
      "         │        │        │        │        │        │        │        │\n",
      "         │        │        │        │        │        │        │        │\n",
      "(5, 0)───(5, 1)───(5, 2)───(5, 3)───(5, 4)───(5, 5)───(5, 6)───(5, 7)───(5, 8)\n",
      "         │        │        │        │        │        │        │\n",
      "         │        │        │        │        │        │        │\n",
      "         (6, 1)───(6, 2)───(6, 3)───(6, 4)───(6, 5)───(6, 6)───(6, 7)\n",
      "                  │        │        │        │        │\n",
      "                  │        │        │        │        │\n",
      "                  (7, 2)───(7, 3)───(7, 4)───(7, 5)───(7, 6)\n",
      "                           │        │        │\n",
      "                           │        │        │\n",
      "                           (8, 3)───(8, 4)───(8, 5)\n",
      "                                    │\n",
      "                                    │\n",
      "                                    (9, 4)\n",
      "[cirq.GridQubit(0, 5), cirq.GridQubit(0, 6), cirq.GridQubit(1, 4), cirq.GridQubit(1, 5), cirq.GridQubit(1, 6), cirq.GridQubit(1, 7), cirq.GridQubit(2, 3), cirq.GridQubit(2, 4), cirq.GridQubit(2, 5), cirq.GridQubit(2, 6), cirq.GridQubit(2, 7), cirq.GridQubit(2, 8), cirq.GridQubit(3, 2), cirq.GridQubit(3, 3), cirq.GridQubit(3, 4), cirq.GridQubit(3, 5), cirq.GridQubit(3, 6), cirq.GridQubit(3, 7), cirq.GridQubit(3, 8), cirq.GridQubit(3, 9), cirq.GridQubit(4, 1), cirq.GridQubit(4, 2), cirq.GridQubit(4, 3), cirq.GridQubit(4, 4), cirq.GridQubit(4, 5), cirq.GridQubit(4, 6), cirq.GridQubit(4, 7), cirq.GridQubit(4, 8), cirq.GridQubit(4, 9), cirq.GridQubit(5, 0), cirq.GridQubit(5, 1), cirq.GridQubit(5, 2), cirq.GridQubit(5, 3), cirq.GridQubit(5, 4), cirq.GridQubit(5, 5), cirq.GridQubit(5, 6), cirq.GridQubit(5, 7), cirq.GridQubit(5, 8), cirq.GridQubit(6, 1), cirq.GridQubit(6, 2), cirq.GridQubit(6, 3), cirq.GridQubit(6, 4), cirq.GridQubit(6, 5), cirq.GridQubit(6, 6), cirq.GridQubit(6, 7), cirq.GridQubit(7, 2), cirq.GridQubit(7, 3), cirq.GridQubit(7, 4), cirq.GridQubit(7, 5), cirq.GridQubit(7, 6), cirq.GridQubit(8, 3), cirq.GridQubit(8, 4), cirq.GridQubit(8, 5), cirq.GridQubit(9, 4)]\n"
     ]
    },
    {
     "data": {
      "text/plain": [
       "[(cirq.GridQubit(0, 5), cirq.GridQubit(0, 6)),\n",
       " (cirq.GridQubit(0, 5), cirq.GridQubit(1, 5)),\n",
       " (cirq.GridQubit(0, 6), cirq.GridQubit(1, 6)),\n",
       " (cirq.GridQubit(1, 4), cirq.GridQubit(1, 5)),\n",
       " (cirq.GridQubit(1, 4), cirq.GridQubit(2, 4)),\n",
       " (cirq.GridQubit(1, 5), cirq.GridQubit(1, 6)),\n",
       " (cirq.GridQubit(1, 5), cirq.GridQubit(2, 5)),\n",
       " (cirq.GridQubit(1, 6), cirq.GridQubit(1, 7)),\n",
       " (cirq.GridQubit(1, 6), cirq.GridQubit(2, 6)),\n",
       " (cirq.GridQubit(1, 7), cirq.GridQubit(2, 7)),\n",
       " (cirq.GridQubit(2, 3), cirq.GridQubit(2, 4)),\n",
       " (cirq.GridQubit(2, 3), cirq.GridQubit(3, 3)),\n",
       " (cirq.GridQubit(2, 4), cirq.GridQubit(2, 5)),\n",
       " (cirq.GridQubit(2, 4), cirq.GridQubit(3, 4)),\n",
       " (cirq.GridQubit(2, 5), cirq.GridQubit(2, 6)),\n",
       " (cirq.GridQubit(2, 5), cirq.GridQubit(3, 5)),\n",
       " (cirq.GridQubit(2, 6), cirq.GridQubit(2, 7)),\n",
       " (cirq.GridQubit(2, 6), cirq.GridQubit(3, 6)),\n",
       " (cirq.GridQubit(2, 7), cirq.GridQubit(2, 8)),\n",
       " (cirq.GridQubit(2, 7), cirq.GridQubit(3, 7)),\n",
       " (cirq.GridQubit(2, 8), cirq.GridQubit(3, 8)),\n",
       " (cirq.GridQubit(3, 2), cirq.GridQubit(3, 3)),\n",
       " (cirq.GridQubit(3, 2), cirq.GridQubit(4, 2)),\n",
       " (cirq.GridQubit(3, 3), cirq.GridQubit(3, 4)),\n",
       " (cirq.GridQubit(3, 3), cirq.GridQubit(4, 3)),\n",
       " (cirq.GridQubit(3, 4), cirq.GridQubit(3, 5)),\n",
       " (cirq.GridQubit(3, 4), cirq.GridQubit(4, 4)),\n",
       " (cirq.GridQubit(3, 5), cirq.GridQubit(3, 6)),\n",
       " (cirq.GridQubit(3, 5), cirq.GridQubit(4, 5)),\n",
       " (cirq.GridQubit(3, 6), cirq.GridQubit(3, 7)),\n",
       " (cirq.GridQubit(3, 6), cirq.GridQubit(4, 6)),\n",
       " (cirq.GridQubit(3, 7), cirq.GridQubit(3, 8)),\n",
       " (cirq.GridQubit(3, 7), cirq.GridQubit(4, 7)),\n",
       " (cirq.GridQubit(3, 8), cirq.GridQubit(3, 9)),\n",
       " (cirq.GridQubit(3, 8), cirq.GridQubit(4, 8)),\n",
       " (cirq.GridQubit(3, 9), cirq.GridQubit(4, 9)),\n",
       " (cirq.GridQubit(4, 1), cirq.GridQubit(4, 2)),\n",
       " (cirq.GridQubit(4, 1), cirq.GridQubit(5, 1)),\n",
       " (cirq.GridQubit(4, 2), cirq.GridQubit(4, 3)),\n",
       " (cirq.GridQubit(4, 2), cirq.GridQubit(5, 2)),\n",
       " (cirq.GridQubit(4, 3), cirq.GridQubit(4, 4)),\n",
       " (cirq.GridQubit(4, 3), cirq.GridQubit(5, 3)),\n",
       " (cirq.GridQubit(4, 4), cirq.GridQubit(4, 5)),\n",
       " (cirq.GridQubit(4, 4), cirq.GridQubit(5, 4)),\n",
       " (cirq.GridQubit(4, 5), cirq.GridQubit(4, 6)),\n",
       " (cirq.GridQubit(4, 5), cirq.GridQubit(5, 5)),\n",
       " (cirq.GridQubit(4, 6), cirq.GridQubit(4, 7)),\n",
       " (cirq.GridQubit(4, 6), cirq.GridQubit(5, 6)),\n",
       " (cirq.GridQubit(4, 7), cirq.GridQubit(4, 8)),\n",
       " (cirq.GridQubit(4, 7), cirq.GridQubit(5, 7)),\n",
       " (cirq.GridQubit(4, 8), cirq.GridQubit(4, 9)),\n",
       " (cirq.GridQubit(4, 8), cirq.GridQubit(5, 8)),\n",
       " (cirq.GridQubit(5, 0), cirq.GridQubit(5, 1)),\n",
       " (cirq.GridQubit(5, 1), cirq.GridQubit(5, 2)),\n",
       " (cirq.GridQubit(5, 1), cirq.GridQubit(6, 1)),\n",
       " (cirq.GridQubit(5, 2), cirq.GridQubit(5, 3)),\n",
       " (cirq.GridQubit(5, 2), cirq.GridQubit(6, 2)),\n",
       " (cirq.GridQubit(5, 3), cirq.GridQubit(5, 4)),\n",
       " (cirq.GridQubit(5, 3), cirq.GridQubit(6, 3)),\n",
       " (cirq.GridQubit(5, 4), cirq.GridQubit(5, 5)),\n",
       " (cirq.GridQubit(5, 4), cirq.GridQubit(6, 4)),\n",
       " (cirq.GridQubit(5, 5), cirq.GridQubit(5, 6)),\n",
       " (cirq.GridQubit(5, 5), cirq.GridQubit(6, 5)),\n",
       " (cirq.GridQubit(5, 6), cirq.GridQubit(5, 7)),\n",
       " (cirq.GridQubit(5, 6), cirq.GridQubit(6, 6)),\n",
       " (cirq.GridQubit(5, 7), cirq.GridQubit(5, 8)),\n",
       " (cirq.GridQubit(5, 7), cirq.GridQubit(6, 7)),\n",
       " (cirq.GridQubit(6, 1), cirq.GridQubit(6, 2)),\n",
       " (cirq.GridQubit(6, 2), cirq.GridQubit(6, 3)),\n",
       " (cirq.GridQubit(6, 2), cirq.GridQubit(7, 2)),\n",
       " (cirq.GridQubit(6, 3), cirq.GridQubit(6, 4)),\n",
       " (cirq.GridQubit(6, 3), cirq.GridQubit(7, 3)),\n",
       " (cirq.GridQubit(6, 4), cirq.GridQubit(6, 5)),\n",
       " (cirq.GridQubit(6, 4), cirq.GridQubit(7, 4)),\n",
       " (cirq.GridQubit(6, 5), cirq.GridQubit(6, 6)),\n",
       " (cirq.GridQubit(6, 5), cirq.GridQubit(7, 5)),\n",
       " (cirq.GridQubit(6, 6), cirq.GridQubit(6, 7)),\n",
       " (cirq.GridQubit(6, 6), cirq.GridQubit(7, 6)),\n",
       " (cirq.GridQubit(7, 2), cirq.GridQubit(7, 3)),\n",
       " (cirq.GridQubit(7, 3), cirq.GridQubit(7, 4)),\n",
       " (cirq.GridQubit(7, 3), cirq.GridQubit(8, 3)),\n",
       " (cirq.GridQubit(7, 4), cirq.GridQubit(7, 5)),\n",
       " (cirq.GridQubit(7, 4), cirq.GridQubit(8, 4)),\n",
       " (cirq.GridQubit(7, 5), cirq.GridQubit(7, 6)),\n",
       " (cirq.GridQubit(7, 5), cirq.GridQubit(8, 5)),\n",
       " (cirq.GridQubit(8, 3), cirq.GridQubit(8, 4)),\n",
       " (cirq.GridQubit(8, 4), cirq.GridQubit(8, 5)),\n",
       " (cirq.GridQubit(8, 4), cirq.GridQubit(9, 4))]"
      ]
     },
     "execution_count": 57,
     "metadata": {},
     "output_type": "execute_result"
    }
   ],
   "source": [
    "import cirq \n",
    "import networkx as nx\n",
    "q = cirq.LineQubit.range(4)\n",
    "circuit = cirq.Circuit([\n",
    "    cirq.Moment(cirq.CNOT(q[2], q[0]), cirq.CNOT(q[1], q[3])),\n",
    "    cirq.Moment(cirq.X(q[0]), cirq.CNOT(q[1], q[2])),\n",
    "    cirq.Moment(cirq.CNOT(q[0], q[1])),\n",
    "    cirq.Moment(cirq.H.on_each(q[1], q[2])),\n",
    "    cirq.Moment(cirq.CNOT(q[1], q[0]), cirq.CNOT(q[3], q[2])),\n",
    "])\n",
    "print(circuit)\n",
    "\n",
    "import cirq_google as cg\n",
    "device = cg.Sycamore\n",
    "device_graph = nx.Graph()\n",
    "router = cirq.RouteCQC(device_graph)\n",
    "\n",
    "# Let's look at what the device architecture looks like\n",
    "print(device)\n",
    "# print(router)\n",
    "# routed_circuit = router(circuit)\n",
    "# print(routed_circuit)\n",
    "\n",
    "# routed_circuit = cirq.optimize_for_target_gateset(routed_circuit, gateset = cg.SycamoreTargetGateset())\n",
    "# Validate our circuit\n",
    "# device.validate_circuit(routed_circuit)\n",
    "# device_graph\n",
    "device_graph = device.metadata.nx_graph\n",
    "dir(device_graph)\n",
    "a = list(device_graph.nodes)\n",
    "b = device_graph.edges\n",
    "g = nx.Graph()\n",
    "# for aa in a:\n",
    "    # g.add_node()\n",
    "    # g.add_edge(aa)\n",
    "# print(g)\n",
    "# print(device_graph)\n",
    "print(a)\n",
    "list(b)"
   ]
  }
 ],
 "metadata": {
  "kernelspec": {
   "display_name": "Python 3 (ipykernel)",
   "language": "python",
   "name": "python3"
  },
  "language_info": {
   "codemirror_mode": {
    "name": "ipython",
    "version": 3
   },
   "file_extension": ".py",
   "mimetype": "text/x-python",
   "name": "python",
   "nbconvert_exporter": "python",
   "pygments_lexer": "ipython3",
   "version": "3.9.12"
  }
 },
 "nbformat": 4,
 "nbformat_minor": 5
}
